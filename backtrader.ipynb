{
 "cells": [
  {
   "cell_type": "code",
   "execution_count": 1,
   "metadata": {},
   "outputs": [
    {
     "name": "stdout",
     "output_type": "stream",
     "text": [
      "Requirement already satisfied: configparser in /home/nbuser/anaconda3_420/lib/python3.5/site-packages (4.0.2)\n",
      "\u001b[33mWARNING: You are using pip version 19.3.1; however, version 20.0.2 is available.\n",
      "You should consider upgrading via the 'pip install --upgrade pip' command.\u001b[0m\n",
      "Requirement already satisfied: cufflinks in /home/nbuser/anaconda3_420/lib/python3.5/site-packages (0.17.3)\n",
      "Requirement already satisfied: numpy>=1.9.2 in /home/nbuser/anaconda3_420/lib/python3.5/site-packages (from cufflinks) (1.17.3)\n",
      "Requirement already satisfied: ipython>=5.3.0 in /home/nbuser/anaconda3_420/lib/python3.5/site-packages (from cufflinks) (6.2.1)\n",
      "Requirement already satisfied: setuptools>=34.4.1 in /home/nbuser/anaconda3_420/lib/python3.5/site-packages (from cufflinks) (41.6.0)\n",
      "Requirement already satisfied: colorlover>=0.2.1 in /home/nbuser/anaconda3_420/lib/python3.5/site-packages (from cufflinks) (0.3.0)\n",
      "Requirement already satisfied: pandas>=0.19.2 in /home/nbuser/anaconda3_420/lib/python3.5/site-packages (from cufflinks) (0.19.2)\n",
      "Requirement already satisfied: six>=1.9.0 in /home/nbuser/anaconda3_420/lib/python3.5/site-packages (from cufflinks) (1.11.0)\n",
      "Requirement already satisfied: ipywidgets>=7.0.0 in /home/nbuser/anaconda3_420/lib/python3.5/site-packages (from cufflinks) (7.5.1)\n",
      "Requirement already satisfied: plotly>=4.1.1 in /home/nbuser/anaconda3_420/lib/python3.5/site-packages (from cufflinks) (4.2.1)\n",
      "Requirement already satisfied: jedi>=0.10 in /home/nbuser/anaconda3_420/lib/python3.5/site-packages (from ipython>=5.3.0->cufflinks) (0.11.0)\n",
      "Requirement already satisfied: decorator in /home/nbuser/anaconda3_420/lib/python3.5/site-packages (from ipython>=5.3.0->cufflinks) (4.4.1)\n",
      "Requirement already satisfied: pickleshare in /home/nbuser/anaconda3_420/lib/python3.5/site-packages (from ipython>=5.3.0->cufflinks) (0.7.4)\n",
      "Requirement already satisfied: simplegeneric>0.8 in /home/nbuser/anaconda3_420/lib/python3.5/site-packages (from ipython>=5.3.0->cufflinks) (0.8.1)\n",
      "Requirement already satisfied: traitlets>=4.2 in /home/nbuser/anaconda3_420/lib/python3.5/site-packages (from ipython>=5.3.0->cufflinks) (4.3.1)\n",
      "Requirement already satisfied: prompt_toolkit<2.0.0,>=1.0.4 in /home/nbuser/anaconda3_420/lib/python3.5/site-packages (from ipython>=5.3.0->cufflinks) (1.0.15)\n",
      "Requirement already satisfied: pygments in /home/nbuser/anaconda3_420/lib/python3.5/site-packages (from ipython>=5.3.0->cufflinks) (2.1.3)\n",
      "Requirement already satisfied: pexpect in /home/nbuser/anaconda3_420/lib/python3.5/site-packages (from ipython>=5.3.0->cufflinks) (4.0.1)\n",
      "Requirement already satisfied: python-dateutil>=2 in /home/nbuser/anaconda3_420/lib/python3.5/site-packages (from pandas>=0.19.2->cufflinks) (2.8.1)\n",
      "Requirement already satisfied: pytz>=2011k in /home/nbuser/anaconda3_420/lib/python3.5/site-packages (from pandas>=0.19.2->cufflinks) (2016.6.1)\n",
      "Requirement already satisfied: ipykernel>=4.5.1 in /home/nbuser/anaconda3_420/lib/python3.5/site-packages (from ipywidgets>=7.0.0->cufflinks) (4.7.0)\n",
      "Requirement already satisfied: nbformat>=4.2.0 in /home/nbuser/anaconda3_420/lib/python3.5/site-packages (from ipywidgets>=7.0.0->cufflinks) (4.2.0)\n",
      "Requirement already satisfied: widgetsnbextension~=3.5.0 in /home/nbuser/anaconda3_420/lib/python3.5/site-packages (from ipywidgets>=7.0.0->cufflinks) (3.5.1)\n",
      "Requirement already satisfied: retrying>=1.3.3 in /home/nbuser/anaconda3_420/lib/python3.5/site-packages (from plotly>=4.1.1->cufflinks) (1.3.3)\n",
      "Requirement already satisfied: parso==0.1.* in /home/nbuser/anaconda3_420/lib/python3.5/site-packages (from jedi>=0.10->ipython>=5.3.0->cufflinks) (0.1.1)\n",
      "Requirement already satisfied: wcwidth in /home/nbuser/anaconda3_420/lib/python3.5/site-packages (from prompt_toolkit<2.0.0,>=1.0.4->ipython>=5.3.0->cufflinks) (0.1.7)\n",
      "Requirement already satisfied: jupyter_client in /home/nbuser/anaconda3_420/lib/python3.5/site-packages (from ipykernel>=4.5.1->ipywidgets>=7.0.0->cufflinks) (5.1.0)\n",
      "Requirement already satisfied: tornado>=4.0 in /home/nbuser/anaconda3_420/lib/python3.5/site-packages (from ipykernel>=4.5.1->ipywidgets>=7.0.0->cufflinks) (4.4.1)\n",
      "Requirement already satisfied: notebook>=4.4.1 in /home/nbuser/anaconda3_420/lib/python3.5/site-packages (from widgetsnbextension~=3.5.0->ipywidgets>=7.0.0->cufflinks) (5.0.0)\n",
      "Requirement already satisfied: jupyter_core in /home/nbuser/anaconda3_420/lib/python3.5/site-packages (from jupyter_client->ipykernel>=4.5.1->ipywidgets>=7.0.0->cufflinks) (4.4.0)\n",
      "Requirement already satisfied: pyzmq>=13 in /home/nbuser/anaconda3_420/lib/python3.5/site-packages (from jupyter_client->ipykernel>=4.5.1->ipywidgets>=7.0.0->cufflinks) (15.4.0)\n",
      "\u001b[33mWARNING: You are using pip version 19.3.1; however, version 20.0.2 is available.\n",
      "You should consider upgrading via the 'pip install --upgrade pip' command.\u001b[0m\n",
      "Requirement already satisfied: intrinio_sdk in /home/nbuser/anaconda3_420/lib/python3.5/site-packages (5.4.0)\n",
      "Requirement already satisfied: six>=1.10 in /home/nbuser/anaconda3_420/lib/python3.5/site-packages (from intrinio_sdk) (1.11.0)\n",
      "Requirement already satisfied: certifi in /home/nbuser/anaconda3_420/lib/python3.5/site-packages (from intrinio_sdk) (2019.9.11)\n",
      "Requirement already satisfied: python-dateutil in /home/nbuser/anaconda3_420/lib/python3.5/site-packages (from intrinio_sdk) (2.8.1)\n",
      "Requirement already satisfied: urllib3>=1.15 in /home/nbuser/anaconda3_420/lib/python3.5/site-packages (from intrinio_sdk) (1.25.6)\n",
      "\u001b[33mWARNING: You are using pip version 19.3.1; however, version 20.0.2 is available.\n",
      "You should consider upgrading via the 'pip install --upgrade pip' command.\u001b[0m\n"
     ]
    }
   ],
   "source": [
    "!pip install configparser\n",
    "!pip install cufflinks\n",
    "!pip install intrinio_sdk"
   ]
  },
  {
   "cell_type": "markdown",
   "metadata": {},
   "source": [
    "**Configuration**"
   ]
  },
  {
   "cell_type": "code",
   "execution_count": 2,
   "metadata": {},
   "outputs": [],
   "source": [
    "import intrinio_sdk\n",
    "import configparser as cp"
   ]
  },
  {
   "cell_type": "markdown",
   "metadata": {},
   "source": [
    "**Scientific Analysis**"
   ]
  },
  {
   "cell_type": "code",
   "execution_count": 4,
   "metadata": {},
   "outputs": [
    {
     "data": {
      "text/html": [
       "        <script type=\"text/javascript\">\n",
       "        window.PlotlyConfig = {MathJaxConfig: 'local'};\n",
       "        if (window.MathJax) {MathJax.Hub.Config({SVG: {font: \"STIX-Web\"}});}\n",
       "        if (typeof require !== 'undefined') {\n",
       "        require.undef(\"plotly\");\n",
       "        requirejs.config({\n",
       "            paths: {\n",
       "                'plotly': ['https://cdn.plot.ly/plotly-latest.min']\n",
       "            }\n",
       "        });\n",
       "        require(['plotly'], function(Plotly) {\n",
       "            window._Plotly = Plotly;\n",
       "        });\n",
       "        }\n",
       "        </script>\n",
       "        "
      ]
     },
     "metadata": {},
     "output_type": "display_data"
    }
   ],
   "source": [
    "import statsmodels.api as sm\n",
    "import numpy as np\n",
    "import pandas as pd\n",
    "import cufflinks as cf \n",
    "import matplotlib.pyplot as plt\n",
    "cf.set_config_file(offline=True)"
   ]
  },
  {
   "cell_type": "markdown",
   "metadata": {},
   "source": [
    "**Secure method to load API credentials**"
   ]
  },
  {
   "cell_type": "code",
   "execution_count": 5,
   "metadata": {},
   "outputs": [
    {
     "data": {
      "text/plain": [
       "['../resources/credentials.cfg']"
      ]
     },
     "execution_count": 5,
     "metadata": {},
     "output_type": "execute_result"
    }
   ],
   "source": [
    "cfg = cp.ConfigParser()\n",
    "cfg.read('../resources/credentials.cfg')"
   ]
  },
  {
   "cell_type": "markdown",
   "metadata": {},
   "source": [
    "**Connect to Intrinio API using your sandbox API key**"
   ]
  },
  {
   "cell_type": "code",
   "execution_count": 6,
   "metadata": {},
   "outputs": [],
   "source": [
    "API_KEY = cfg['intrinio']['app_key']\n",
    "\n",
    "intrinio_sdk.ApiClient().configuration.api_key['api_key'] = API_KEY\n",
    "\n",
    "security_api = intrinio_sdk.SecurityApi()"
   ]
  },
  {
   "cell_type": "markdown",
   "metadata": {},
   "source": [
    "**Intrinio API Request**"
   ]
  },
  {
   "cell_type": "code",
   "execution_count": 7,
   "metadata": {},
   "outputs": [],
   "source": [
    "# Goldman sachs & Morgan Stanley\n",
    "identifier_gs= 'GS' \n",
    "identifier_ms= 'MS'\n",
    "start_date = '2019-10-01' \n",
    "end_date = '2020-04-12' \n",
    "frequency = 'daily' \n",
    "page_size = 200\n",
    "next_page = ''"
   ]
  },
  {
   "cell_type": "code",
   "execution_count": 15,
   "metadata": {},
   "outputs": [],
   "source": [
    "response_gs = security_api.get_security_stock_prices(identifier_gs,\n",
    "                                                  start_date = start_date,\n",
    "                                                  end_date = end_date,\n",
    "                                                    page_size = 200)\n",
    "response_ms = security_api.get_security_stock_prices(identifier_ms,\n",
    "                                                  start_date = start_date,\n",
    "                                                  end_date = end_date,\n",
    "                                                    page_size = 200)"
   ]
  },
  {
   "cell_type": "code",
   "execution_count": 16,
   "metadata": {},
   "outputs": [
    {
     "data": {
      "text/plain": [
       "{'adj_close': 200.32872789153095,\n",
       " 'adj_high': 206.94079158285436,\n",
       " 'adj_low': 200.2496598653268,\n",
       " 'adj_open': 204.59840130655593,\n",
       " 'adj_volume': 3171507.0,\n",
       " 'close': 202.69,\n",
       " 'date': datetime.date(2019, 10, 1),\n",
       " 'frequency': 'daily',\n",
       " 'high': 209.38,\n",
       " 'intraperiod': False,\n",
       " 'low': 202.61,\n",
       " 'open': 207.01,\n",
       " 'volume': 3171507.0}"
      ]
     },
     "execution_count": 16,
     "metadata": {},
     "output_type": "execute_result"
    }
   ],
   "source": [
    "response_gs.stock_prices[-1]"
   ]
  },
  {
   "cell_type": "code",
   "execution_count": 17,
   "metadata": {},
   "outputs": [
    {
     "data": {
      "text/plain": [
       "{'code': 'EQS',\n",
       " 'company_id': 'com_Wy1Z7g',\n",
       " 'composite_figi': 'BBG000BLZRJ2',\n",
       " 'composite_ticker': 'MS:US',\n",
       " 'currency': 'USD',\n",
       " 'figi': 'BBG000BLZT71',\n",
       " 'id': 'sec_zJBkez',\n",
       " 'name': 'Morgan Stanley',\n",
       " 'share_class_figi': 'BBG001S9V5Z3',\n",
       " 'ticker': 'MS'}"
      ]
     },
     "execution_count": 17,
     "metadata": {},
     "output_type": "execute_result"
    }
   ],
   "source": [
    "response_ms.security"
   ]
  },
  {
   "cell_type": "markdown",
   "metadata": {},
   "source": [
    "**Data Cleaning**"
   ]
  },
  {
   "cell_type": "code",
   "execution_count": 18,
   "metadata": {},
   "outputs": [],
   "source": [
    "gs_stock = [p.to_dict() for p in response_gs.stock_prices]\n",
    "ms_stock = [p.to_dict() for p in response_ms.stock_prices]\n",
    "\n",
    "gs_df = pd.DataFrame.from_dict(gs_stock)\n",
    "ms_df = pd.DataFrame.from_dict(ms_stock)"
   ]
  },
  {
   "cell_type": "code",
   "execution_count": 19,
   "metadata": {},
   "outputs": [
    {
     "data": {
      "text/plain": [
       "(133, 13)"
      ]
     },
     "execution_count": 19,
     "metadata": {},
     "output_type": "execute_result"
    }
   ],
   "source": [
    "gs_df['secid'] = \"Goldman Sachs\"\n",
    "gs_df.index = pd.DatetimeIndex(gs_df['date'])\n",
    "gs_df = gs_df.drop('date',axis=1)\n",
    "gs_df = gs_df.sort_index()\n",
    "gs_df.shape"
   ]
  },
  {
   "cell_type": "code",
   "execution_count": 20,
   "metadata": {},
   "outputs": [
    {
     "data": {
      "text/plain": [
       "(133, 13)"
      ]
     },
     "execution_count": 20,
     "metadata": {},
     "output_type": "execute_result"
    }
   ],
   "source": [
    "ms_df['secid'] = \"Morgan Stanley\"\n",
    "ms_df.index = pd.DatetimeIndex(ms_df['date'])\n",
    "ms_df = ms_df.drop('date',axis=1)\n",
    "ms_df = ms_df.sort_index()\n",
    "ms_df.shape"
   ]
  },
  {
   "cell_type": "code",
   "execution_count": 21,
   "metadata": {},
   "outputs": [
    {
     "data": {
      "text/html": [
       "<div>\n",
       "<table border=\"1\" class=\"dataframe\">\n",
       "  <thead>\n",
       "    <tr style=\"text-align: right;\">\n",
       "      <th></th>\n",
       "      <th>adj_close</th>\n",
       "      <th>adj_high</th>\n",
       "      <th>adj_low</th>\n",
       "      <th>adj_open</th>\n",
       "      <th>adj_volume</th>\n",
       "      <th>close</th>\n",
       "      <th>frequency</th>\n",
       "      <th>high</th>\n",
       "      <th>intraperiod</th>\n",
       "      <th>low</th>\n",
       "      <th>open</th>\n",
       "      <th>volume</th>\n",
       "      <th>secid</th>\n",
       "    </tr>\n",
       "    <tr>\n",
       "      <th>date</th>\n",
       "      <th></th>\n",
       "      <th></th>\n",
       "      <th></th>\n",
       "      <th></th>\n",
       "      <th></th>\n",
       "      <th></th>\n",
       "      <th></th>\n",
       "      <th></th>\n",
       "      <th></th>\n",
       "      <th></th>\n",
       "      <th></th>\n",
       "      <th></th>\n",
       "      <th></th>\n",
       "    </tr>\n",
       "  </thead>\n",
       "  <tbody>\n",
       "    <tr>\n",
       "      <th>2019-10-01</th>\n",
       "      <td>200.328728</td>\n",
       "      <td>206.940792</td>\n",
       "      <td>200.249660</td>\n",
       "      <td>204.598401</td>\n",
       "      <td>3171507.0</td>\n",
       "      <td>202.69</td>\n",
       "      <td>daily</td>\n",
       "      <td>209.380</td>\n",
       "      <td>False</td>\n",
       "      <td>202.61</td>\n",
       "      <td>207.01</td>\n",
       "      <td>3171507.0</td>\n",
       "      <td>Goldman Sachs</td>\n",
       "    </tr>\n",
       "    <tr>\n",
       "      <th>2019-10-02</th>\n",
       "      <td>195.940452</td>\n",
       "      <td>199.528164</td>\n",
       "      <td>195.298025</td>\n",
       "      <td>199.340378</td>\n",
       "      <td>3395299.0</td>\n",
       "      <td>198.25</td>\n",
       "      <td>daily</td>\n",
       "      <td>201.880</td>\n",
       "      <td>False</td>\n",
       "      <td>197.60</td>\n",
       "      <td>201.69</td>\n",
       "      <td>3395299.0</td>\n",
       "      <td>Goldman Sachs</td>\n",
       "    </tr>\n",
       "    <tr>\n",
       "      <th>2019-10-03</th>\n",
       "      <td>194.942219</td>\n",
       "      <td>196.059054</td>\n",
       "      <td>191.730080</td>\n",
       "      <td>195.307908</td>\n",
       "      <td>2923698.0</td>\n",
       "      <td>197.24</td>\n",
       "      <td>daily</td>\n",
       "      <td>198.370</td>\n",
       "      <td>False</td>\n",
       "      <td>193.99</td>\n",
       "      <td>197.61</td>\n",
       "      <td>2923698.0</td>\n",
       "      <td>Goldman Sachs</td>\n",
       "    </tr>\n",
       "    <tr>\n",
       "      <th>2019-10-04</th>\n",
       "      <td>198.460746</td>\n",
       "      <td>198.881783</td>\n",
       "      <td>193.756198</td>\n",
       "      <td>194.695131</td>\n",
       "      <td>3028781.0</td>\n",
       "      <td>200.80</td>\n",
       "      <td>daily</td>\n",
       "      <td>201.226</td>\n",
       "      <td>False</td>\n",
       "      <td>196.04</td>\n",
       "      <td>196.99</td>\n",
       "      <td>3028781.0</td>\n",
       "      <td>Goldman Sachs</td>\n",
       "    </tr>\n",
       "    <tr>\n",
       "      <th>2019-10-07</th>\n",
       "      <td>198.065406</td>\n",
       "      <td>200.170592</td>\n",
       "      <td>197.146240</td>\n",
       "      <td>198.450862</td>\n",
       "      <td>2210318.0</td>\n",
       "      <td>200.40</td>\n",
       "      <td>daily</td>\n",
       "      <td>202.530</td>\n",
       "      <td>False</td>\n",
       "      <td>199.47</td>\n",
       "      <td>200.79</td>\n",
       "      <td>2210318.0</td>\n",
       "      <td>Goldman Sachs</td>\n",
       "    </tr>\n",
       "  </tbody>\n",
       "</table>\n",
       "</div>"
      ],
      "text/plain": [
       "             adj_close    adj_high     adj_low    adj_open  adj_volume  \\\n",
       "date                                                                     \n",
       "2019-10-01  200.328728  206.940792  200.249660  204.598401   3171507.0   \n",
       "2019-10-02  195.940452  199.528164  195.298025  199.340378   3395299.0   \n",
       "2019-10-03  194.942219  196.059054  191.730080  195.307908   2923698.0   \n",
       "2019-10-04  198.460746  198.881783  193.756198  194.695131   3028781.0   \n",
       "2019-10-07  198.065406  200.170592  197.146240  198.450862   2210318.0   \n",
       "\n",
       "             close frequency     high intraperiod     low    open     volume  \\\n",
       "date                                                                           \n",
       "2019-10-01  202.69     daily  209.380       False  202.61  207.01  3171507.0   \n",
       "2019-10-02  198.25     daily  201.880       False  197.60  201.69  3395299.0   \n",
       "2019-10-03  197.24     daily  198.370       False  193.99  197.61  2923698.0   \n",
       "2019-10-04  200.80     daily  201.226       False  196.04  196.99  3028781.0   \n",
       "2019-10-07  200.40     daily  202.530       False  199.47  200.79  2210318.0   \n",
       "\n",
       "                    secid  \n",
       "date                       \n",
       "2019-10-01  Goldman Sachs  \n",
       "2019-10-02  Goldman Sachs  \n",
       "2019-10-03  Goldman Sachs  \n",
       "2019-10-04  Goldman Sachs  \n",
       "2019-10-07  Goldman Sachs  "
      ]
     },
     "execution_count": 21,
     "metadata": {},
     "output_type": "execute_result"
    }
   ],
   "source": [
    "gs_df.head()"
   ]
  },
  {
   "cell_type": "code",
   "execution_count": 22,
   "metadata": {},
   "outputs": [
    {
     "data": {
      "text/html": [
       "<div>\n",
       "<table border=\"1\" class=\"dataframe\">\n",
       "  <thead>\n",
       "    <tr style=\"text-align: right;\">\n",
       "      <th></th>\n",
       "      <th>adj_close</th>\n",
       "      <th>adj_high</th>\n",
       "      <th>adj_low</th>\n",
       "      <th>adj_open</th>\n",
       "      <th>adj_volume</th>\n",
       "      <th>close</th>\n",
       "      <th>frequency</th>\n",
       "      <th>high</th>\n",
       "      <th>intraperiod</th>\n",
       "      <th>low</th>\n",
       "      <th>open</th>\n",
       "      <th>volume</th>\n",
       "      <th>secid</th>\n",
       "    </tr>\n",
       "    <tr>\n",
       "      <th>date</th>\n",
       "      <th></th>\n",
       "      <th></th>\n",
       "      <th></th>\n",
       "      <th></th>\n",
       "      <th></th>\n",
       "      <th></th>\n",
       "      <th></th>\n",
       "      <th></th>\n",
       "      <th></th>\n",
       "      <th></th>\n",
       "      <th></th>\n",
       "      <th></th>\n",
       "      <th></th>\n",
       "    </tr>\n",
       "  </thead>\n",
       "  <tbody>\n",
       "    <tr>\n",
       "      <th>2019-10-01</th>\n",
       "      <td>40.803918</td>\n",
       "      <td>42.056238</td>\n",
       "      <td>40.675728</td>\n",
       "      <td>41.918187</td>\n",
       "      <td>13583304.0</td>\n",
       "      <td>41.38</td>\n",
       "      <td>daily</td>\n",
       "      <td>42.65</td>\n",
       "      <td>False</td>\n",
       "      <td>41.25</td>\n",
       "      <td>42.51</td>\n",
       "      <td>13583304.0</td>\n",
       "      <td>Morgan Stanley</td>\n",
       "    </tr>\n",
       "    <tr>\n",
       "      <th>2019-10-02</th>\n",
       "      <td>39.669928</td>\n",
       "      <td>40.517956</td>\n",
       "      <td>39.531877</td>\n",
       "      <td>40.468652</td>\n",
       "      <td>12145026.0</td>\n",
       "      <td>40.23</td>\n",
       "      <td>daily</td>\n",
       "      <td>41.09</td>\n",
       "      <td>False</td>\n",
       "      <td>40.09</td>\n",
       "      <td>41.04</td>\n",
       "      <td>12145026.0</td>\n",
       "      <td>Morgan Stanley</td>\n",
       "    </tr>\n",
       "    <tr>\n",
       "      <th>2019-10-03</th>\n",
       "      <td>39.689650</td>\n",
       "      <td>39.738954</td>\n",
       "      <td>38.752876</td>\n",
       "      <td>39.492434</td>\n",
       "      <td>12221504.0</td>\n",
       "      <td>40.25</td>\n",
       "      <td>daily</td>\n",
       "      <td>40.30</td>\n",
       "      <td>False</td>\n",
       "      <td>39.30</td>\n",
       "      <td>40.05</td>\n",
       "      <td>12221504.0</td>\n",
       "      <td>Morgan Stanley</td>\n",
       "    </tr>\n",
       "    <tr>\n",
       "      <th>2019-10-04</th>\n",
       "      <td>40.212271</td>\n",
       "      <td>40.251715</td>\n",
       "      <td>39.620624</td>\n",
       "      <td>39.778397</td>\n",
       "      <td>6080780.0</td>\n",
       "      <td>40.78</td>\n",
       "      <td>daily</td>\n",
       "      <td>40.82</td>\n",
       "      <td>False</td>\n",
       "      <td>40.18</td>\n",
       "      <td>40.34</td>\n",
       "      <td>6080780.0</td>\n",
       "      <td>Morgan Stanley</td>\n",
       "    </tr>\n",
       "    <tr>\n",
       "      <th>2019-10-07</th>\n",
       "      <td>40.113664</td>\n",
       "      <td>40.537677</td>\n",
       "      <td>39.985473</td>\n",
       "      <td>40.034777</td>\n",
       "      <td>6388099.0</td>\n",
       "      <td>40.68</td>\n",
       "      <td>daily</td>\n",
       "      <td>41.11</td>\n",
       "      <td>False</td>\n",
       "      <td>40.55</td>\n",
       "      <td>40.60</td>\n",
       "      <td>6388099.0</td>\n",
       "      <td>Morgan Stanley</td>\n",
       "    </tr>\n",
       "  </tbody>\n",
       "</table>\n",
       "</div>"
      ],
      "text/plain": [
       "            adj_close   adj_high    adj_low   adj_open  adj_volume  close  \\\n",
       "date                                                                        \n",
       "2019-10-01  40.803918  42.056238  40.675728  41.918187  13583304.0  41.38   \n",
       "2019-10-02  39.669928  40.517956  39.531877  40.468652  12145026.0  40.23   \n",
       "2019-10-03  39.689650  39.738954  38.752876  39.492434  12221504.0  40.25   \n",
       "2019-10-04  40.212271  40.251715  39.620624  39.778397   6080780.0  40.78   \n",
       "2019-10-07  40.113664  40.537677  39.985473  40.034777   6388099.0  40.68   \n",
       "\n",
       "           frequency   high intraperiod    low   open      volume  \\\n",
       "date                                                                \n",
       "2019-10-01     daily  42.65       False  41.25  42.51  13583304.0   \n",
       "2019-10-02     daily  41.09       False  40.09  41.04  12145026.0   \n",
       "2019-10-03     daily  40.30       False  39.30  40.05  12221504.0   \n",
       "2019-10-04     daily  40.82       False  40.18  40.34   6080780.0   \n",
       "2019-10-07     daily  41.11       False  40.55  40.60   6388099.0   \n",
       "\n",
       "                     secid  \n",
       "date                        \n",
       "2019-10-01  Morgan Stanley  \n",
       "2019-10-02  Morgan Stanley  \n",
       "2019-10-03  Morgan Stanley  \n",
       "2019-10-04  Morgan Stanley  \n",
       "2019-10-07  Morgan Stanley  "
      ]
     },
     "execution_count": 22,
     "metadata": {},
     "output_type": "execute_result"
    }
   ],
   "source": [
    "ms_df.head()"
   ]
  },
  {
   "cell_type": "markdown",
   "metadata": {},
   "source": [
    "**Merge the two stocks datasets**"
   ]
  },
  {
   "cell_type": "code",
   "execution_count": 23,
   "metadata": {},
   "outputs": [
    {
     "data": {
      "text/plain": [
       "(266, 13)"
      ]
     },
     "execution_count": 23,
     "metadata": {},
     "output_type": "execute_result"
    }
   ],
   "source": [
    "invest_brock_share = pd.concat([gs_df,ms_df])\n",
    "invest_brock_share.shape"
   ]
  },
  {
   "cell_type": "code",
   "execution_count": 24,
   "metadata": {},
   "outputs": [
    {
     "data": {
      "text/html": [
       "<div>\n",
       "<table border=\"1\" class=\"dataframe\">\n",
       "  <thead>\n",
       "    <tr style=\"text-align: right;\">\n",
       "      <th></th>\n",
       "      <th>adj_close</th>\n",
       "      <th>adj_high</th>\n",
       "      <th>adj_low</th>\n",
       "      <th>adj_open</th>\n",
       "      <th>adj_volume</th>\n",
       "      <th>close</th>\n",
       "      <th>frequency</th>\n",
       "      <th>high</th>\n",
       "      <th>intraperiod</th>\n",
       "      <th>low</th>\n",
       "      <th>open</th>\n",
       "      <th>volume</th>\n",
       "      <th>secid</th>\n",
       "    </tr>\n",
       "    <tr>\n",
       "      <th>date</th>\n",
       "      <th></th>\n",
       "      <th></th>\n",
       "      <th></th>\n",
       "      <th></th>\n",
       "      <th></th>\n",
       "      <th></th>\n",
       "      <th></th>\n",
       "      <th></th>\n",
       "      <th></th>\n",
       "      <th></th>\n",
       "      <th></th>\n",
       "      <th></th>\n",
       "      <th></th>\n",
       "    </tr>\n",
       "  </thead>\n",
       "  <tbody>\n",
       "    <tr>\n",
       "      <th>2019-10-01</th>\n",
       "      <td>200.328728</td>\n",
       "      <td>206.940792</td>\n",
       "      <td>200.249660</td>\n",
       "      <td>204.598401</td>\n",
       "      <td>3171507.0</td>\n",
       "      <td>202.69</td>\n",
       "      <td>daily</td>\n",
       "      <td>209.380</td>\n",
       "      <td>False</td>\n",
       "      <td>202.61</td>\n",
       "      <td>207.01</td>\n",
       "      <td>3171507.0</td>\n",
       "      <td>Goldman Sachs</td>\n",
       "    </tr>\n",
       "    <tr>\n",
       "      <th>2019-10-02</th>\n",
       "      <td>195.940452</td>\n",
       "      <td>199.528164</td>\n",
       "      <td>195.298025</td>\n",
       "      <td>199.340378</td>\n",
       "      <td>3395299.0</td>\n",
       "      <td>198.25</td>\n",
       "      <td>daily</td>\n",
       "      <td>201.880</td>\n",
       "      <td>False</td>\n",
       "      <td>197.60</td>\n",
       "      <td>201.69</td>\n",
       "      <td>3395299.0</td>\n",
       "      <td>Goldman Sachs</td>\n",
       "    </tr>\n",
       "    <tr>\n",
       "      <th>2019-10-03</th>\n",
       "      <td>194.942219</td>\n",
       "      <td>196.059054</td>\n",
       "      <td>191.730080</td>\n",
       "      <td>195.307908</td>\n",
       "      <td>2923698.0</td>\n",
       "      <td>197.24</td>\n",
       "      <td>daily</td>\n",
       "      <td>198.370</td>\n",
       "      <td>False</td>\n",
       "      <td>193.99</td>\n",
       "      <td>197.61</td>\n",
       "      <td>2923698.0</td>\n",
       "      <td>Goldman Sachs</td>\n",
       "    </tr>\n",
       "    <tr>\n",
       "      <th>2019-10-04</th>\n",
       "      <td>198.460746</td>\n",
       "      <td>198.881783</td>\n",
       "      <td>193.756198</td>\n",
       "      <td>194.695131</td>\n",
       "      <td>3028781.0</td>\n",
       "      <td>200.80</td>\n",
       "      <td>daily</td>\n",
       "      <td>201.226</td>\n",
       "      <td>False</td>\n",
       "      <td>196.04</td>\n",
       "      <td>196.99</td>\n",
       "      <td>3028781.0</td>\n",
       "      <td>Goldman Sachs</td>\n",
       "    </tr>\n",
       "    <tr>\n",
       "      <th>2019-10-07</th>\n",
       "      <td>198.065406</td>\n",
       "      <td>200.170592</td>\n",
       "      <td>197.146240</td>\n",
       "      <td>198.450862</td>\n",
       "      <td>2210318.0</td>\n",
       "      <td>200.40</td>\n",
       "      <td>daily</td>\n",
       "      <td>202.530</td>\n",
       "      <td>False</td>\n",
       "      <td>199.47</td>\n",
       "      <td>200.79</td>\n",
       "      <td>2210318.0</td>\n",
       "      <td>Goldman Sachs</td>\n",
       "    </tr>\n",
       "  </tbody>\n",
       "</table>\n",
       "</div>"
      ],
      "text/plain": [
       "             adj_close    adj_high     adj_low    adj_open  adj_volume  \\\n",
       "date                                                                     \n",
       "2019-10-01  200.328728  206.940792  200.249660  204.598401   3171507.0   \n",
       "2019-10-02  195.940452  199.528164  195.298025  199.340378   3395299.0   \n",
       "2019-10-03  194.942219  196.059054  191.730080  195.307908   2923698.0   \n",
       "2019-10-04  198.460746  198.881783  193.756198  194.695131   3028781.0   \n",
       "2019-10-07  198.065406  200.170592  197.146240  198.450862   2210318.0   \n",
       "\n",
       "             close frequency     high intraperiod     low    open     volume  \\\n",
       "date                                                                           \n",
       "2019-10-01  202.69     daily  209.380       False  202.61  207.01  3171507.0   \n",
       "2019-10-02  198.25     daily  201.880       False  197.60  201.69  3395299.0   \n",
       "2019-10-03  197.24     daily  198.370       False  193.99  197.61  2923698.0   \n",
       "2019-10-04  200.80     daily  201.226       False  196.04  196.99  3028781.0   \n",
       "2019-10-07  200.40     daily  202.530       False  199.47  200.79  2210318.0   \n",
       "\n",
       "                    secid  \n",
       "date                       \n",
       "2019-10-01  Goldman Sachs  \n",
       "2019-10-02  Goldman Sachs  \n",
       "2019-10-03  Goldman Sachs  \n",
       "2019-10-04  Goldman Sachs  \n",
       "2019-10-07  Goldman Sachs  "
      ]
     },
     "execution_count": 24,
     "metadata": {},
     "output_type": "execute_result"
    }
   ],
   "source": [
    "invest_brock_share.head()"
   ]
  },
  {
   "cell_type": "markdown",
   "metadata": {},
   "source": [
    "<a id='commonanalyses'></a>\n",
    "## Common Financial Analyses"
   ]
  },
  {
   "cell_type": "markdown",
   "metadata": {},
   "source": [
    "**Calculate Returns**"
   ]
  },
  {
   "cell_type": "code",
   "execution_count": 25,
   "metadata": {},
   "outputs": [],
   "source": [
    "returns = np.log(invest_brock_share['adj_close'] / invest_brock_share['adj_close'].shift(1))\n",
    "invest_brock_share['returns'] = returns"
   ]
  },
  {
   "cell_type": "code",
   "execution_count": 26,
   "metadata": {},
   "outputs": [],
   "source": [
    "# Goldman Sachs Returns\n",
    "gs_returns = invest_brock_share[invest_brock_share['secid'] == 'Goldman Sachs']['returns']"
   ]
  },
  {
   "cell_type": "code",
   "execution_count": 27,
   "metadata": {},
   "outputs": [],
   "source": [
    "#UBER returns\n",
    "ms_returns = invest_brock_share[invest_brock_share['secid'] == 'Morgan Stanley']['returns']"
   ]
  },
  {
   "cell_type": "markdown",
   "metadata": {},
   "source": [
    "### Ordinary Least-Squares Regression (OLS)"
   ]
  },
  {
   "cell_type": "markdown",
   "metadata": {},
   "source": [
    "**New DataFrame to hold the two stocks returns and calculate the regression**"
   ]
  },
  {
   "cell_type": "code",
   "execution_count": 28,
   "metadata": {},
   "outputs": [
    {
     "data": {
      "text/html": [
       "<div>\n",
       "<table border=\"1\" class=\"dataframe\">\n",
       "  <thead>\n",
       "    <tr style=\"text-align: right;\">\n",
       "      <th></th>\n",
       "      <th>Goldman Sachs Return</th>\n",
       "      <th>Morgan Stanley Return</th>\n",
       "    </tr>\n",
       "    <tr>\n",
       "      <th>date</th>\n",
       "      <th></th>\n",
       "      <th></th>\n",
       "    </tr>\n",
       "  </thead>\n",
       "  <tbody>\n",
       "    <tr>\n",
       "      <th>2019-10-02</th>\n",
       "      <td>-0.022149</td>\n",
       "      <td>-0.028185</td>\n",
       "    </tr>\n",
       "    <tr>\n",
       "      <th>2019-10-03</th>\n",
       "      <td>-0.005108</td>\n",
       "      <td>0.000497</td>\n",
       "    </tr>\n",
       "    <tr>\n",
       "      <th>2019-10-04</th>\n",
       "      <td>0.017888</td>\n",
       "      <td>0.013082</td>\n",
       "    </tr>\n",
       "    <tr>\n",
       "      <th>2019-10-07</th>\n",
       "      <td>-0.001994</td>\n",
       "      <td>-0.002455</td>\n",
       "    </tr>\n",
       "    <tr>\n",
       "      <th>2019-10-08</th>\n",
       "      <td>-0.015235</td>\n",
       "      <td>-0.021367</td>\n",
       "    </tr>\n",
       "  </tbody>\n",
       "</table>\n",
       "</div>"
      ],
      "text/plain": [
       "            Goldman Sachs Return  Morgan Stanley Return\n",
       "date                                                   \n",
       "2019-10-02             -0.022149              -0.028185\n",
       "2019-10-03             -0.005108               0.000497\n",
       "2019-10-04              0.017888               0.013082\n",
       "2019-10-07             -0.001994              -0.002455\n",
       "2019-10-08             -0.015235              -0.021367"
      ]
     },
     "execution_count": 28,
     "metadata": {},
     "output_type": "execute_result"
    }
   ],
   "source": [
    "return_data = pd.concat([gs_returns, ms_returns], axis=1)[1:]\n",
    "return_data.columns = ['Goldman Sachs Return', 'Morgan Stanley Return']\n",
    "return_data.head()"
   ]
  },
  {
   "cell_type": "code",
   "execution_count": 29,
   "metadata": {},
   "outputs": [
    {
     "data": {
      "text/plain": [
       "(132, 2)"
      ]
     },
     "execution_count": 29,
     "metadata": {},
     "output_type": "execute_result"
    }
   ],
   "source": [
    "return_data.shape"
   ]
  },
  {
   "cell_type": "markdown",
   "metadata": {},
   "source": [
    "** OLS Regression **"
   ]
  },
  {
   "cell_type": "code",
   "execution_count": 30,
   "metadata": {},
   "outputs": [
    {
     "name": "stdout",
     "output_type": "stream",
     "text": [
      "                              OLS Regression Results                             \n",
      "=================================================================================\n",
      "Dep. Variable:     Morgan Stanley Return   R-squared:                       0.866\n",
      "Model:                               OLS   Adj. R-squared:                  0.865\n",
      "Method:                    Least Squares   F-statistic:                     842.7\n",
      "Date:                   Sat, 18 Apr 2020   Prob (F-statistic):           1.16e-58\n",
      "Time:                           02:20:13   Log-Likelihood:                 366.67\n",
      "No. Observations:                    132   AIC:                            -729.3\n",
      "Df Residuals:                        130   BIC:                            -723.6\n",
      "Df Model:                              1                                         \n",
      "Covariance Type:               nonrobust                                         \n",
      "========================================================================================\n",
      "                           coef    std err          t      P>|t|      [0.025      0.975]\n",
      "----------------------------------------------------------------------------------------\n",
      "const                    0.0007      0.001      0.539      0.591      -0.002       0.003\n",
      "Goldman Sachs Return     1.0425      0.036     29.029      0.000       0.971       1.114\n",
      "==============================================================================\n",
      "Omnibus:                       20.677   Durbin-Watson:                   2.330\n",
      "Prob(Omnibus):                  0.000   Jarque-Bera (JB):               77.649\n",
      "Skew:                          -0.383   Prob(JB):                     1.38e-17\n",
      "Kurtosis:                       6.678   Cond. No.                         27.2\n",
      "==============================================================================\n",
      "\n",
      "Warnings:\n",
      "[1] Standard Errors assume that the covariance matrix of the errors is correctly specified.\n"
     ]
    }
   ],
   "source": [
    "# Add a constant \n",
    "X = sm.add_constant(return_data['Goldman Sachs Return'])\n",
    "\n",
    "# Construct the model\n",
    "model = sm.OLS(return_data['Morgan Stanley Return'], X).fit()\n",
    "\n",
    "# Print the summary\n",
    "print(model.summary())"
   ]
  },
  {
   "cell_type": "markdown",
   "metadata": {},
   "source": [
    "### From the OLS regression results table, adj. R-squared is 0.865. It means this model fits the data well, and most of the points in the data expained the above relationship between GS and MS stocks. Also, the t value for the slope is 29.029, which is very large. It means this coefficient is significant."
   ]
  },
  {
   "cell_type": "markdown",
   "metadata": {},
   "source": [
    "**Investment broke share companies 132 day stock returns**"
   ]
  },
  {
   "cell_type": "code",
   "execution_count": 31,
   "metadata": {},
   "outputs": [
    {
     "data": {
      "image/png": "[encoded data removed]",
      "text/plain": [
       "<matplotlib.figure.Figure at 0x7fb1b99b5470>"
      ]
     },
     "metadata": {},
     "output_type": "display_data"
    }
   ],
   "source": [
    "plt.figure(figsize=(12,8))\n",
    "plt.plot(return_data['Goldman Sachs Return'], return_data['Morgan Stanley Return'], 'r.')\n",
    "\n",
    "ax = plt.axis()\n",
    "x = np.linspace(ax[0], ax[1] + 0.01)\n",
    "\n",
    "plt.plot(x, model.params[0] + model.params[1] * x, 'b', lw=2)\n",
    "\n",
    "plt.grid(True)\n",
    "plt.axis('tight')\n",
    "plt.xlabel('Uber Returns')\n",
    "plt.ylabel('Lyft returns')\n",
    "\n",
    "plt.show()"
   ]
  },
  {
   "cell_type": "markdown",
   "metadata": {},
   "source": [
    "**Investment Broke Share Companies stock 30 day windows correlation**"
   ]
  },
  {
   "cell_type": "code",
   "execution_count": 32,
   "metadata": {},
   "outputs": [
    {
     "data": {
      "image/png": "[encoded data removed]",
      "text/plain": [
       "<matplotlib.figure.Figure at 0x7fb1b99a9d30>"
      ]
     },
     "metadata": {},
     "output_type": "display_data"
    }
   ],
   "source": [
    "plt.figure(figsize=(12,8))\n",
    "return_data['Morgan Stanley Return'].rolling(window=30).corr(return_data['Goldman Sachs Return']).plot()\n",
    "plt.show()"
   ]
  },
  {
   "cell_type": "markdown",
   "metadata": {},
   "source": [
    "**Investment Broke Share Companies stock 5 day windows correlation**"
   ]
  },
  {
   "cell_type": "code",
   "execution_count": 33,
   "metadata": {},
   "outputs": [
    {
     "data": {
      "image/png": "[encoded data removed]",
      "text/plain": [
       "<matplotlib.figure.Figure at 0x7fb1b994ecc0>"
      ]
     },
     "metadata": {},
     "output_type": "display_data"
    }
   ],
   "source": [
    "plt.figure(figsize=(12,8))\n",
    "return_data['Morgan Stanley Return'].rolling(window=5).corr(return_data['Goldman Sachs Return']).plot()\n",
    "plt.show()"
   ]
  },
  {
   "cell_type": "markdown",
   "metadata": {},
   "source": [
    "<a id='tradingstrategy'></a>\n",
    "## Trading Strategy \n",
    " Goldman Sachs"
   ]
  },
  {
   "cell_type": "markdown",
   "metadata": {},
   "source": [
    "**Established short and long windows parameters based on the number of observations**"
   ]
  },
  {
   "cell_type": "code",
   "execution_count": 34,
   "metadata": {},
   "outputs": [],
   "source": [
    "short_window = 5\n",
    "long_window = 15"
   ]
  },
  {
   "cell_type": "markdown",
   "metadata": {},
   "source": [
    "**Empty `signals` DataFrame with a `signal` column starting at zero**"
   ]
  },
  {
   "cell_type": "code",
   "execution_count": 35,
   "metadata": {},
   "outputs": [],
   "source": [
    "signals = pd.DataFrame(index = gs_df.index)\n",
    "signals['signal'] = 0.0"
   ]
  },
  {
   "cell_type": "markdown",
   "metadata": {},
   "source": [
    "**Simple moving average over the short window and the long window**"
   ]
  },
  {
   "cell_type": "code",
   "execution_count": 36,
   "metadata": {},
   "outputs": [],
   "source": [
    "signals['short_mavg'] =gs_df['close'].rolling(window = short_window,\n",
    "                                                 min_periods = 1,\n",
    "                                                 center = False).mean()\n",
    "signals['long_mavg'] = gs_df['close'].rolling(window = long_window,\n",
    "                                                min_periods = 1,\n",
    "                                                center = False).mean()"
   ]
  },
  {
   "cell_type": "markdown",
   "metadata": {},
   "source": [
    "**Determine Trading signal**"
   ]
  },
  {
   "cell_type": "code",
   "execution_count": 37,
   "metadata": {},
   "outputs": [],
   "source": [
    "signals['signal'][short_window:] = np.where(signals['short_mavg'][short_window:] \n",
    "                                            > signals['long_mavg'][short_window:],\n",
    "                                            1.0, 0.0)"
   ]
  },
  {
   "cell_type": "markdown",
   "metadata": {},
   "source": [
    "**Create Trading Orders**"
   ]
  },
  {
   "cell_type": "code",
   "execution_count": 38,
   "metadata": {},
   "outputs": [
    {
     "data": {
      "text/html": [
       "<div>\n",
       "<table border=\"1\" class=\"dataframe\">\n",
       "  <thead>\n",
       "    <tr style=\"text-align: right;\">\n",
       "      <th></th>\n",
       "      <th>signal</th>\n",
       "      <th>short_mavg</th>\n",
       "      <th>long_mavg</th>\n",
       "      <th>positions</th>\n",
       "    </tr>\n",
       "    <tr>\n",
       "      <th>date</th>\n",
       "      <th></th>\n",
       "      <th></th>\n",
       "      <th></th>\n",
       "      <th></th>\n",
       "    </tr>\n",
       "  </thead>\n",
       "  <tbody>\n",
       "    <tr>\n",
       "      <th>2019-10-01</th>\n",
       "      <td>0.0</td>\n",
       "      <td>202.690000</td>\n",
       "      <td>202.690000</td>\n",
       "      <td>1.0</td>\n",
       "    </tr>\n",
       "    <tr>\n",
       "      <th>2019-10-02</th>\n",
       "      <td>0.0</td>\n",
       "      <td>200.470000</td>\n",
       "      <td>200.470000</td>\n",
       "      <td>0.0</td>\n",
       "    </tr>\n",
       "    <tr>\n",
       "      <th>2019-10-03</th>\n",
       "      <td>0.0</td>\n",
       "      <td>199.393333</td>\n",
       "      <td>199.393333</td>\n",
       "      <td>0.0</td>\n",
       "    </tr>\n",
       "    <tr>\n",
       "      <th>2019-10-04</th>\n",
       "      <td>0.0</td>\n",
       "      <td>199.745000</td>\n",
       "      <td>199.745000</td>\n",
       "      <td>0.0</td>\n",
       "    </tr>\n",
       "    <tr>\n",
       "      <th>2019-10-07</th>\n",
       "      <td>0.0</td>\n",
       "      <td>199.876000</td>\n",
       "      <td>199.876000</td>\n",
       "      <td>0.0</td>\n",
       "    </tr>\n",
       "    <tr>\n",
       "      <th>2019-10-08</th>\n",
       "      <td>0.0</td>\n",
       "      <td>198.812000</td>\n",
       "      <td>199.458333</td>\n",
       "      <td>0.0</td>\n",
       "    </tr>\n",
       "    <tr>\n",
       "      <th>2019-10-09</th>\n",
       "      <td>0.0</td>\n",
       "      <td>198.532000</td>\n",
       "      <td>199.085714</td>\n",
       "      <td>0.0</td>\n",
       "    </tr>\n",
       "    <tr>\n",
       "      <th>2019-10-10</th>\n",
       "      <td>0.0</td>\n",
       "      <td>199.058000</td>\n",
       "      <td>199.183750</td>\n",
       "      <td>0.0</td>\n",
       "    </tr>\n",
       "    <tr>\n",
       "      <th>2019-10-11</th>\n",
       "      <td>1.0</td>\n",
       "      <td>199.834000</td>\n",
       "      <td>199.794444</td>\n",
       "      <td>1.0</td>\n",
       "    </tr>\n",
       "    <tr>\n",
       "      <th>2019-10-14</th>\n",
       "      <td>1.0</td>\n",
       "      <td>200.918000</td>\n",
       "      <td>200.397000</td>\n",
       "      <td>0.0</td>\n",
       "    </tr>\n",
       "  </tbody>\n",
       "</table>\n",
       "</div>"
      ],
      "text/plain": [
       "            signal  short_mavg   long_mavg  positions\n",
       "date                                                 \n",
       "2019-10-01     0.0  202.690000  202.690000        1.0\n",
       "2019-10-02     0.0  200.470000  200.470000        0.0\n",
       "2019-10-03     0.0  199.393333  199.393333        0.0\n",
       "2019-10-04     0.0  199.745000  199.745000        0.0\n",
       "2019-10-07     0.0  199.876000  199.876000        0.0\n",
       "2019-10-08     0.0  198.812000  199.458333        0.0\n",
       "2019-10-09     0.0  198.532000  199.085714        0.0\n",
       "2019-10-10     0.0  199.058000  199.183750        0.0\n",
       "2019-10-11     1.0  199.834000  199.794444        1.0\n",
       "2019-10-14     1.0  200.918000  200.397000        0.0"
      ]
     },
     "execution_count": 38,
     "metadata": {},
     "output_type": "execute_result"
    }
   ],
   "source": [
    "signals['positions'] = signals['signal'].diff()\n",
    "signals['positions'][0] = 1\n",
    "signals.head(10)"
   ]
  },
  {
   "cell_type": "markdown",
   "metadata": {},
   "source": [
    "**Trading strategy and signals for a 5 day short and 15 day long strategy**"
   ]
  },
  {
   "cell_type": "code",
   "execution_count": 39,
   "metadata": {},
   "outputs": [
    {
     "data": {
      "image/png": "[encoded data removed]",
      "text/plain": [
       "<matplotlib.figure.Figure at 0x7fb1b989db00>"
      ]
     },
     "metadata": {},
     "output_type": "display_data"
    }
   ],
   "source": [
    "# Initialize the plot figure\n",
    "fig = plt.figure(figsize=(12,8))\n",
    "\n",
    "# Add a subplot and label for y-axis\n",
    "ax1 = fig.add_subplot(111,  ylabel='Price in $')\n",
    "\n",
    "# Plot the closing price\n",
    "gs_df['close'].plot(ax=ax1, color='r', lw=2.)\n",
    "\n",
    "# Plot the short and long moving averages\n",
    "signals[['short_mavg', 'long_mavg']].plot(ax=ax1, lw=2.)\n",
    "\n",
    "# Plot the buy signals\n",
    "ax1.plot(signals.loc[signals.positions == 1.0].index, \n",
    "         signals.short_mavg[signals.positions == 1.0],\n",
    "         '^', markersize=10, color='m')\n",
    "         \n",
    "# Plot the sell signals\n",
    "ax1.plot(signals.loc[signals.positions == -1.0].index, \n",
    "         signals.short_mavg[signals.positions == -1.0],\n",
    "         'v', markersize=10, color='k')\n",
    "         \n",
    "# Show the plot\n",
    "plt.show()"
   ]
  },
  {
   "cell_type": "markdown",
   "metadata": {},
   "source": [
    "<a id='backtesting'></a>\n",
    "## Backtesting \n"
   ]
  },
  {
   "cell_type": "markdown",
   "metadata": {},
   "source": [
    "**Determine the initial capital to invest**"
   ]
  },
  {
   "cell_type": "code",
   "execution_count": 40,
   "metadata": {},
   "outputs": [],
   "source": [
    "initial_capital= float(10000.0)"
   ]
  },
  {
   "cell_type": "markdown",
   "metadata": {},
   "source": [
    "**Empty dataFrame to hold the positions**"
   ]
  },
  {
   "cell_type": "code",
   "execution_count": 41,
   "metadata": {},
   "outputs": [],
   "source": [
    "positions = pd.DataFrame(index = signals.index).fillna(0.0)"
   ]
  },
  {
   "cell_type": "markdown",
   "metadata": {},
   "source": [
    "**Make a Buy order of 49 shares**"
   ]
  },
  {
   "cell_type": "code",
   "execution_count": 42,
   "metadata": {},
   "outputs": [],
   "source": [
    "positions['Goldman Sachs'] = 49 * signals['signal']"
   ]
  },
  {
   "cell_type": "markdown",
   "metadata": {},
   "source": [
    "**Initialize portfolio with value owned**"
   ]
  },
  {
   "cell_type": "code",
   "execution_count": 43,
   "metadata": {},
   "outputs": [],
   "source": [
    "portfolio = pd.DataFrame(index = positions.index).fillna(0.0)"
   ]
  },
  {
   "cell_type": "markdown",
   "metadata": {},
   "source": [
    "**Keep track of the owned shares**"
   ]
  },
  {
   "cell_type": "code",
   "execution_count": 44,
   "metadata": {},
   "outputs": [
    {
     "data": {
      "text/html": [
       "<div>\n",
       "<table border=\"1\" class=\"dataframe\">\n",
       "  <thead>\n",
       "    <tr style=\"text-align: right;\">\n",
       "      <th></th>\n",
       "      <th>Goldman Sachs</th>\n",
       "    </tr>\n",
       "    <tr>\n",
       "      <th>date</th>\n",
       "      <th></th>\n",
       "    </tr>\n",
       "  </thead>\n",
       "  <tbody>\n",
       "    <tr>\n",
       "      <th>2019-10-01</th>\n",
       "      <td>0.0</td>\n",
       "    </tr>\n",
       "    <tr>\n",
       "      <th>2019-10-02</th>\n",
       "      <td>0.0</td>\n",
       "    </tr>\n",
       "    <tr>\n",
       "      <th>2019-10-03</th>\n",
       "      <td>0.0</td>\n",
       "    </tr>\n",
       "    <tr>\n",
       "      <th>2019-10-04</th>\n",
       "      <td>0.0</td>\n",
       "    </tr>\n",
       "    <tr>\n",
       "      <th>2019-10-07</th>\n",
       "      <td>0.0</td>\n",
       "    </tr>\n",
       "    <tr>\n",
       "      <th>2019-10-08</th>\n",
       "      <td>0.0</td>\n",
       "    </tr>\n",
       "    <tr>\n",
       "      <th>2019-10-09</th>\n",
       "      <td>0.0</td>\n",
       "    </tr>\n",
       "    <tr>\n",
       "      <th>2019-10-10</th>\n",
       "      <td>0.0</td>\n",
       "    </tr>\n",
       "    <tr>\n",
       "      <th>2019-10-11</th>\n",
       "      <td>49.0</td>\n",
       "    </tr>\n",
       "    <tr>\n",
       "      <th>2019-10-14</th>\n",
       "      <td>0.0</td>\n",
       "    </tr>\n",
       "  </tbody>\n",
       "</table>\n",
       "</div>"
      ],
      "text/plain": [
       "            Goldman Sachs\n",
       "date                     \n",
       "2019-10-01            0.0\n",
       "2019-10-02            0.0\n",
       "2019-10-03            0.0\n",
       "2019-10-04            0.0\n",
       "2019-10-07            0.0\n",
       "2019-10-08            0.0\n",
       "2019-10-09            0.0\n",
       "2019-10-10            0.0\n",
       "2019-10-11           49.0\n",
       "2019-10-14            0.0"
      ]
     },
     "execution_count": 44,
     "metadata": {},
     "output_type": "execute_result"
    }
   ],
   "source": [
    "pos_diff = positions.diff()\n",
    "pos_diff['Goldman Sachs'][0]=0\n",
    "pos_diff.head(10)"
   ]
  },
  {
   "cell_type": "markdown",
   "metadata": {},
   "source": [
    "**Add `holdings` to portfolio**"
   ]
  },
  {
   "cell_type": "code",
   "execution_count": 45,
   "metadata": {},
   "outputs": [
    {
     "data": {
      "text/html": [
       "<div>\n",
       "<table border=\"1\" class=\"dataframe\">\n",
       "  <thead>\n",
       "    <tr style=\"text-align: right;\">\n",
       "      <th></th>\n",
       "      <th>holdings</th>\n",
       "    </tr>\n",
       "    <tr>\n",
       "      <th>date</th>\n",
       "      <th></th>\n",
       "    </tr>\n",
       "  </thead>\n",
       "  <tbody>\n",
       "    <tr>\n",
       "      <th>2019-10-01</th>\n",
       "      <td>0.000000</td>\n",
       "    </tr>\n",
       "    <tr>\n",
       "      <th>2019-10-02</th>\n",
       "      <td>0.000000</td>\n",
       "    </tr>\n",
       "    <tr>\n",
       "      <th>2019-10-03</th>\n",
       "      <td>0.000000</td>\n",
       "    </tr>\n",
       "    <tr>\n",
       "      <th>2019-10-04</th>\n",
       "      <td>0.000000</td>\n",
       "    </tr>\n",
       "    <tr>\n",
       "      <th>2019-10-07</th>\n",
       "      <td>0.000000</td>\n",
       "    </tr>\n",
       "    <tr>\n",
       "      <th>2019-10-08</th>\n",
       "      <td>0.000000</td>\n",
       "    </tr>\n",
       "    <tr>\n",
       "      <th>2019-10-09</th>\n",
       "      <td>0.000000</td>\n",
       "    </tr>\n",
       "    <tr>\n",
       "      <th>2019-10-10</th>\n",
       "      <td>0.000000</td>\n",
       "    </tr>\n",
       "    <tr>\n",
       "      <th>2019-10-11</th>\n",
       "      <td>9912.481707</td>\n",
       "    </tr>\n",
       "    <tr>\n",
       "      <th>2019-10-14</th>\n",
       "      <td>9967.690956</td>\n",
       "    </tr>\n",
       "  </tbody>\n",
       "</table>\n",
       "</div>"
      ],
      "text/plain": [
       "               holdings\n",
       "date                   \n",
       "2019-10-01     0.000000\n",
       "2019-10-02     0.000000\n",
       "2019-10-03     0.000000\n",
       "2019-10-04     0.000000\n",
       "2019-10-07     0.000000\n",
       "2019-10-08     0.000000\n",
       "2019-10-09     0.000000\n",
       "2019-10-10     0.000000\n",
       "2019-10-11  9912.481707\n",
       "2019-10-14  9967.690956"
      ]
     },
     "execution_count": 45,
     "metadata": {},
     "output_type": "execute_result"
    }
   ],
   "source": [
    "portfolio['holdings'] = positions.multiply(gs_df['adj_close'], axis=0)\n",
    "portfolio.head(10)"
   ]
  },
  {
   "cell_type": "markdown",
   "metadata": {},
   "source": [
    "**Calculate remainder `cash` on portfolio**"
   ]
  },
  {
   "cell_type": "code",
   "execution_count": 46,
   "metadata": {},
   "outputs": [],
   "source": [
    "portfolio['cash'] = initial_capital - (pos_diff.multiply(gs_df['adj_close'], \n",
    "                                                         axis=0)).sum(axis=1).cumsum()   "
   ]
  },
  {
   "cell_type": "markdown",
   "metadata": {},
   "source": [
    "**Create a `total` portfolio value column**"
   ]
  },
  {
   "cell_type": "code",
   "execution_count": 47,
   "metadata": {},
   "outputs": [
    {
     "data": {
      "text/html": [
       "<div>\n",
       "<table border=\"1\" class=\"dataframe\">\n",
       "  <thead>\n",
       "    <tr style=\"text-align: right;\">\n",
       "      <th></th>\n",
       "      <th>holdings</th>\n",
       "      <th>cash</th>\n",
       "      <th>total</th>\n",
       "    </tr>\n",
       "    <tr>\n",
       "      <th>date</th>\n",
       "      <th></th>\n",
       "      <th></th>\n",
       "      <th></th>\n",
       "    </tr>\n",
       "  </thead>\n",
       "  <tbody>\n",
       "    <tr>\n",
       "      <th>2019-10-01</th>\n",
       "      <td>0.000000</td>\n",
       "      <td>10000.000000</td>\n",
       "      <td>10000.000000</td>\n",
       "    </tr>\n",
       "    <tr>\n",
       "      <th>2019-10-02</th>\n",
       "      <td>0.000000</td>\n",
       "      <td>10000.000000</td>\n",
       "      <td>10000.000000</td>\n",
       "    </tr>\n",
       "    <tr>\n",
       "      <th>2019-10-03</th>\n",
       "      <td>0.000000</td>\n",
       "      <td>10000.000000</td>\n",
       "      <td>10000.000000</td>\n",
       "    </tr>\n",
       "    <tr>\n",
       "      <th>2019-10-04</th>\n",
       "      <td>0.000000</td>\n",
       "      <td>10000.000000</td>\n",
       "      <td>10000.000000</td>\n",
       "    </tr>\n",
       "    <tr>\n",
       "      <th>2019-10-07</th>\n",
       "      <td>0.000000</td>\n",
       "      <td>10000.000000</td>\n",
       "      <td>10000.000000</td>\n",
       "    </tr>\n",
       "    <tr>\n",
       "      <th>2019-10-08</th>\n",
       "      <td>0.000000</td>\n",
       "      <td>10000.000000</td>\n",
       "      <td>10000.000000</td>\n",
       "    </tr>\n",
       "    <tr>\n",
       "      <th>2019-10-09</th>\n",
       "      <td>0.000000</td>\n",
       "      <td>10000.000000</td>\n",
       "      <td>10000.000000</td>\n",
       "    </tr>\n",
       "    <tr>\n",
       "      <th>2019-10-10</th>\n",
       "      <td>0.000000</td>\n",
       "      <td>10000.000000</td>\n",
       "      <td>10000.000000</td>\n",
       "    </tr>\n",
       "    <tr>\n",
       "      <th>2019-10-11</th>\n",
       "      <td>9912.481707</td>\n",
       "      <td>87.518293</td>\n",
       "      <td>10000.000000</td>\n",
       "    </tr>\n",
       "    <tr>\n",
       "      <th>2019-10-14</th>\n",
       "      <td>9967.690956</td>\n",
       "      <td>87.518293</td>\n",
       "      <td>10055.209249</td>\n",
       "    </tr>\n",
       "  </tbody>\n",
       "</table>\n",
       "</div>"
      ],
      "text/plain": [
       "               holdings          cash         total\n",
       "date                                               \n",
       "2019-10-01     0.000000  10000.000000  10000.000000\n",
       "2019-10-02     0.000000  10000.000000  10000.000000\n",
       "2019-10-03     0.000000  10000.000000  10000.000000\n",
       "2019-10-04     0.000000  10000.000000  10000.000000\n",
       "2019-10-07     0.000000  10000.000000  10000.000000\n",
       "2019-10-08     0.000000  10000.000000  10000.000000\n",
       "2019-10-09     0.000000  10000.000000  10000.000000\n",
       "2019-10-10     0.000000  10000.000000  10000.000000\n",
       "2019-10-11  9912.481707     87.518293  10000.000000\n",
       "2019-10-14  9967.690956     87.518293  10055.209249"
      ]
     },
     "execution_count": 47,
     "metadata": {},
     "output_type": "execute_result"
    }
   ],
   "source": [
    "portfolio['total'] = portfolio['cash'] + portfolio['holdings']\n",
    "portfolio.head(10)"
   ]
  },
  {
   "cell_type": "markdown",
   "metadata": {},
   "source": [
    "**Create a portfolio `returns` column**"
   ]
  },
  {
   "cell_type": "code",
   "execution_count": 48,
   "metadata": {},
   "outputs": [],
   "source": [
    "portfolio['returns'] = portfolio['total'].pct_change()\n",
    "portfolio['returns'][0]=0"
   ]
  },
  {
   "cell_type": "code",
   "execution_count": 49,
   "metadata": {},
   "outputs": [],
   "source": [
    "portfolio['signal'] = [ 'short' if i == 0 else 'long' for i in signals['signal']]"
   ]
  },
  {
   "cell_type": "code",
   "execution_count": 50,
   "metadata": {},
   "outputs": [
    {
     "data": {
      "text/html": [
       "<div>\n",
       "<table border=\"1\" class=\"dataframe\">\n",
       "  <thead>\n",
       "    <tr style=\"text-align: right;\">\n",
       "      <th></th>\n",
       "      <th>holdings</th>\n",
       "      <th>cash</th>\n",
       "      <th>total</th>\n",
       "      <th>returns</th>\n",
       "      <th>signal</th>\n",
       "    </tr>\n",
       "    <tr>\n",
       "      <th>date</th>\n",
       "      <th></th>\n",
       "      <th></th>\n",
       "      <th></th>\n",
       "      <th></th>\n",
       "      <th></th>\n",
       "    </tr>\n",
       "  </thead>\n",
       "  <tbody>\n",
       "    <tr>\n",
       "      <th>2019-10-01</th>\n",
       "      <td>0.000000</td>\n",
       "      <td>10000.000000</td>\n",
       "      <td>10000.000000</td>\n",
       "      <td>0.000000</td>\n",
       "      <td>short</td>\n",
       "    </tr>\n",
       "    <tr>\n",
       "      <th>2019-10-02</th>\n",
       "      <td>0.000000</td>\n",
       "      <td>10000.000000</td>\n",
       "      <td>10000.000000</td>\n",
       "      <td>0.000000</td>\n",
       "      <td>short</td>\n",
       "    </tr>\n",
       "    <tr>\n",
       "      <th>2019-10-03</th>\n",
       "      <td>0.000000</td>\n",
       "      <td>10000.000000</td>\n",
       "      <td>10000.000000</td>\n",
       "      <td>0.000000</td>\n",
       "      <td>short</td>\n",
       "    </tr>\n",
       "    <tr>\n",
       "      <th>2019-10-04</th>\n",
       "      <td>0.000000</td>\n",
       "      <td>10000.000000</td>\n",
       "      <td>10000.000000</td>\n",
       "      <td>0.000000</td>\n",
       "      <td>short</td>\n",
       "    </tr>\n",
       "    <tr>\n",
       "      <th>2019-10-07</th>\n",
       "      <td>0.000000</td>\n",
       "      <td>10000.000000</td>\n",
       "      <td>10000.000000</td>\n",
       "      <td>0.000000</td>\n",
       "      <td>short</td>\n",
       "    </tr>\n",
       "    <tr>\n",
       "      <th>2019-10-08</th>\n",
       "      <td>0.000000</td>\n",
       "      <td>10000.000000</td>\n",
       "      <td>10000.000000</td>\n",
       "      <td>0.000000</td>\n",
       "      <td>short</td>\n",
       "    </tr>\n",
       "    <tr>\n",
       "      <th>2019-10-09</th>\n",
       "      <td>0.000000</td>\n",
       "      <td>10000.000000</td>\n",
       "      <td>10000.000000</td>\n",
       "      <td>0.000000</td>\n",
       "      <td>short</td>\n",
       "    </tr>\n",
       "    <tr>\n",
       "      <th>2019-10-10</th>\n",
       "      <td>0.000000</td>\n",
       "      <td>10000.000000</td>\n",
       "      <td>10000.000000</td>\n",
       "      <td>0.000000</td>\n",
       "      <td>short</td>\n",
       "    </tr>\n",
       "    <tr>\n",
       "      <th>2019-10-11</th>\n",
       "      <td>9912.481707</td>\n",
       "      <td>87.518293</td>\n",
       "      <td>10000.000000</td>\n",
       "      <td>0.000000</td>\n",
       "      <td>long</td>\n",
       "    </tr>\n",
       "    <tr>\n",
       "      <th>2019-10-14</th>\n",
       "      <td>9967.690956</td>\n",
       "      <td>87.518293</td>\n",
       "      <td>10055.209249</td>\n",
       "      <td>0.005521</td>\n",
       "      <td>long</td>\n",
       "    </tr>\n",
       "    <tr>\n",
       "      <th>2019-10-15</th>\n",
       "      <td>9998.685623</td>\n",
       "      <td>87.518293</td>\n",
       "      <td>10086.203916</td>\n",
       "      <td>0.003082</td>\n",
       "      <td>long</td>\n",
       "    </tr>\n",
       "    <tr>\n",
       "      <th>2019-10-16</th>\n",
       "      <td>10045.177622</td>\n",
       "      <td>87.518293</td>\n",
       "      <td>10132.695915</td>\n",
       "      <td>0.004609</td>\n",
       "      <td>long</td>\n",
       "    </tr>\n",
       "    <tr>\n",
       "      <th>2019-10-17</th>\n",
       "      <td>9998.685623</td>\n",
       "      <td>87.518293</td>\n",
       "      <td>10086.203916</td>\n",
       "      <td>-0.004588</td>\n",
       "      <td>long</td>\n",
       "    </tr>\n",
       "    <tr>\n",
       "      <th>2019-10-18</th>\n",
       "      <td>10001.591373</td>\n",
       "      <td>87.518293</td>\n",
       "      <td>10089.109666</td>\n",
       "      <td>0.000288</td>\n",
       "      <td>long</td>\n",
       "    </tr>\n",
       "    <tr>\n",
       "      <th>2019-10-21</th>\n",
       "      <td>10133.802996</td>\n",
       "      <td>87.518293</td>\n",
       "      <td>10221.321289</td>\n",
       "      <td>0.013104</td>\n",
       "      <td>long</td>\n",
       "    </tr>\n",
       "    <tr>\n",
       "      <th>2019-10-22</th>\n",
       "      <td>10150.753204</td>\n",
       "      <td>87.518293</td>\n",
       "      <td>10238.271497</td>\n",
       "      <td>0.001658</td>\n",
       "      <td>long</td>\n",
       "    </tr>\n",
       "    <tr>\n",
       "      <th>2019-10-23</th>\n",
       "      <td>10234.051370</td>\n",
       "      <td>87.518293</td>\n",
       "      <td>10321.569663</td>\n",
       "      <td>0.008136</td>\n",
       "      <td>long</td>\n",
       "    </tr>\n",
       "    <tr>\n",
       "      <th>2019-10-24</th>\n",
       "      <td>10220.975495</td>\n",
       "      <td>87.518293</td>\n",
       "      <td>10308.493788</td>\n",
       "      <td>-0.001267</td>\n",
       "      <td>long</td>\n",
       "    </tr>\n",
       "    <tr>\n",
       "      <th>2019-10-25</th>\n",
       "      <td>10374.980243</td>\n",
       "      <td>87.518293</td>\n",
       "      <td>10462.498536</td>\n",
       "      <td>0.014940</td>\n",
       "      <td>long</td>\n",
       "    </tr>\n",
       "    <tr>\n",
       "      <th>2019-10-28</th>\n",
       "      <td>10545.450907</td>\n",
       "      <td>87.518293</td>\n",
       "      <td>10632.969200</td>\n",
       "      <td>0.016293</td>\n",
       "      <td>long</td>\n",
       "    </tr>\n",
       "    <tr>\n",
       "      <th>2019-10-29</th>\n",
       "      <td>10540.123699</td>\n",
       "      <td>87.518293</td>\n",
       "      <td>10627.641992</td>\n",
       "      <td>-0.000501</td>\n",
       "      <td>long</td>\n",
       "    </tr>\n",
       "    <tr>\n",
       "      <th>2019-10-30</th>\n",
       "      <td>10451.498325</td>\n",
       "      <td>87.518293</td>\n",
       "      <td>10539.016618</td>\n",
       "      <td>-0.008339</td>\n",
       "      <td>long</td>\n",
       "    </tr>\n",
       "    <tr>\n",
       "      <th>2019-10-31</th>\n",
       "      <td>10333.815452</td>\n",
       "      <td>87.518293</td>\n",
       "      <td>10421.333745</td>\n",
       "      <td>-0.011166</td>\n",
       "      <td>long</td>\n",
       "    </tr>\n",
       "    <tr>\n",
       "      <th>2019-11-01</th>\n",
       "      <td>10528.016408</td>\n",
       "      <td>87.518293</td>\n",
       "      <td>10615.534700</td>\n",
       "      <td>0.018635</td>\n",
       "      <td>long</td>\n",
       "    </tr>\n",
       "    <tr>\n",
       "      <th>2019-11-04</th>\n",
       "      <td>10648.120739</td>\n",
       "      <td>87.518293</td>\n",
       "      <td>10735.639032</td>\n",
       "      <td>0.011314</td>\n",
       "      <td>long</td>\n",
       "    </tr>\n",
       "    <tr>\n",
       "      <th>2019-11-05</th>\n",
       "      <td>10588.552865</td>\n",
       "      <td>87.518293</td>\n",
       "      <td>10676.071158</td>\n",
       "      <td>-0.005549</td>\n",
       "      <td>long</td>\n",
       "    </tr>\n",
       "    <tr>\n",
       "      <th>2019-11-06</th>\n",
       "      <td>10577.898449</td>\n",
       "      <td>87.518293</td>\n",
       "      <td>10665.416742</td>\n",
       "      <td>-0.000998</td>\n",
       "      <td>long</td>\n",
       "    </tr>\n",
       "    <tr>\n",
       "      <th>2019-11-07</th>\n",
       "      <td>10813.748487</td>\n",
       "      <td>87.518293</td>\n",
       "      <td>10901.266780</td>\n",
       "      <td>0.022114</td>\n",
       "      <td>long</td>\n",
       "    </tr>\n",
       "    <tr>\n",
       "      <th>2019-11-08</th>\n",
       "      <td>10795.345404</td>\n",
       "      <td>87.518293</td>\n",
       "      <td>10882.863697</td>\n",
       "      <td>-0.001688</td>\n",
       "      <td>long</td>\n",
       "    </tr>\n",
       "    <tr>\n",
       "      <th>2019-11-11</th>\n",
       "      <td>10607.440240</td>\n",
       "      <td>87.518293</td>\n",
       "      <td>10694.958533</td>\n",
       "      <td>-0.017266</td>\n",
       "      <td>long</td>\n",
       "    </tr>\n",
       "    <tr>\n",
       "      <th>...</th>\n",
       "      <td>...</td>\n",
       "      <td>...</td>\n",
       "      <td>...</td>\n",
       "      <td>...</td>\n",
       "      <td>...</td>\n",
       "    </tr>\n",
       "    <tr>\n",
       "      <th>2020-02-28</th>\n",
       "      <td>0.000000</td>\n",
       "      <td>11227.842756</td>\n",
       "      <td>11227.842756</td>\n",
       "      <td>0.000000</td>\n",
       "      <td>short</td>\n",
       "    </tr>\n",
       "    <tr>\n",
       "      <th>2020-03-02</th>\n",
       "      <td>0.000000</td>\n",
       "      <td>11227.842756</td>\n",
       "      <td>11227.842756</td>\n",
       "      <td>0.000000</td>\n",
       "      <td>short</td>\n",
       "    </tr>\n",
       "    <tr>\n",
       "      <th>2020-03-03</th>\n",
       "      <td>0.000000</td>\n",
       "      <td>11227.842756</td>\n",
       "      <td>11227.842756</td>\n",
       "      <td>0.000000</td>\n",
       "      <td>short</td>\n",
       "    </tr>\n",
       "    <tr>\n",
       "      <th>2020-03-04</th>\n",
       "      <td>0.000000</td>\n",
       "      <td>11227.842756</td>\n",
       "      <td>11227.842756</td>\n",
       "      <td>0.000000</td>\n",
       "      <td>short</td>\n",
       "    </tr>\n",
       "    <tr>\n",
       "      <th>2020-03-05</th>\n",
       "      <td>0.000000</td>\n",
       "      <td>11227.842756</td>\n",
       "      <td>11227.842756</td>\n",
       "      <td>0.000000</td>\n",
       "      <td>short</td>\n",
       "    </tr>\n",
       "    <tr>\n",
       "      <th>2020-03-06</th>\n",
       "      <td>0.000000</td>\n",
       "      <td>11227.842756</td>\n",
       "      <td>11227.842756</td>\n",
       "      <td>0.000000</td>\n",
       "      <td>short</td>\n",
       "    </tr>\n",
       "    <tr>\n",
       "      <th>2020-03-09</th>\n",
       "      <td>0.000000</td>\n",
       "      <td>11227.842756</td>\n",
       "      <td>11227.842756</td>\n",
       "      <td>0.000000</td>\n",
       "      <td>short</td>\n",
       "    </tr>\n",
       "    <tr>\n",
       "      <th>2020-03-10</th>\n",
       "      <td>0.000000</td>\n",
       "      <td>11227.842756</td>\n",
       "      <td>11227.842756</td>\n",
       "      <td>0.000000</td>\n",
       "      <td>short</td>\n",
       "    </tr>\n",
       "    <tr>\n",
       "      <th>2020-03-11</th>\n",
       "      <td>0.000000</td>\n",
       "      <td>11227.842756</td>\n",
       "      <td>11227.842756</td>\n",
       "      <td>0.000000</td>\n",
       "      <td>short</td>\n",
       "    </tr>\n",
       "    <tr>\n",
       "      <th>2020-03-12</th>\n",
       "      <td>0.000000</td>\n",
       "      <td>11227.842756</td>\n",
       "      <td>11227.842756</td>\n",
       "      <td>0.000000</td>\n",
       "      <td>short</td>\n",
       "    </tr>\n",
       "    <tr>\n",
       "      <th>2020-03-13</th>\n",
       "      <td>0.000000</td>\n",
       "      <td>11227.842756</td>\n",
       "      <td>11227.842756</td>\n",
       "      <td>0.000000</td>\n",
       "      <td>short</td>\n",
       "    </tr>\n",
       "    <tr>\n",
       "      <th>2020-03-16</th>\n",
       "      <td>0.000000</td>\n",
       "      <td>11227.842756</td>\n",
       "      <td>11227.842756</td>\n",
       "      <td>0.000000</td>\n",
       "      <td>short</td>\n",
       "    </tr>\n",
       "    <tr>\n",
       "      <th>2020-03-17</th>\n",
       "      <td>0.000000</td>\n",
       "      <td>11227.842756</td>\n",
       "      <td>11227.842756</td>\n",
       "      <td>0.000000</td>\n",
       "      <td>short</td>\n",
       "    </tr>\n",
       "    <tr>\n",
       "      <th>2020-03-18</th>\n",
       "      <td>0.000000</td>\n",
       "      <td>11227.842756</td>\n",
       "      <td>11227.842756</td>\n",
       "      <td>0.000000</td>\n",
       "      <td>short</td>\n",
       "    </tr>\n",
       "    <tr>\n",
       "      <th>2020-03-19</th>\n",
       "      <td>0.000000</td>\n",
       "      <td>11227.842756</td>\n",
       "      <td>11227.842756</td>\n",
       "      <td>0.000000</td>\n",
       "      <td>short</td>\n",
       "    </tr>\n",
       "    <tr>\n",
       "      <th>2020-03-20</th>\n",
       "      <td>0.000000</td>\n",
       "      <td>11227.842756</td>\n",
       "      <td>11227.842756</td>\n",
       "      <td>0.000000</td>\n",
       "      <td>short</td>\n",
       "    </tr>\n",
       "    <tr>\n",
       "      <th>2020-03-23</th>\n",
       "      <td>0.000000</td>\n",
       "      <td>11227.842756</td>\n",
       "      <td>11227.842756</td>\n",
       "      <td>0.000000</td>\n",
       "      <td>short</td>\n",
       "    </tr>\n",
       "    <tr>\n",
       "      <th>2020-03-24</th>\n",
       "      <td>0.000000</td>\n",
       "      <td>11227.842756</td>\n",
       "      <td>11227.842756</td>\n",
       "      <td>0.000000</td>\n",
       "      <td>short</td>\n",
       "    </tr>\n",
       "    <tr>\n",
       "      <th>2020-03-25</th>\n",
       "      <td>0.000000</td>\n",
       "      <td>11227.842756</td>\n",
       "      <td>11227.842756</td>\n",
       "      <td>0.000000</td>\n",
       "      <td>short</td>\n",
       "    </tr>\n",
       "    <tr>\n",
       "      <th>2020-03-26</th>\n",
       "      <td>0.000000</td>\n",
       "      <td>11227.842756</td>\n",
       "      <td>11227.842756</td>\n",
       "      <td>0.000000</td>\n",
       "      <td>short</td>\n",
       "    </tr>\n",
       "    <tr>\n",
       "      <th>2020-03-27</th>\n",
       "      <td>0.000000</td>\n",
       "      <td>11227.842756</td>\n",
       "      <td>11227.842756</td>\n",
       "      <td>0.000000</td>\n",
       "      <td>short</td>\n",
       "    </tr>\n",
       "    <tr>\n",
       "      <th>2020-03-30</th>\n",
       "      <td>7821.380000</td>\n",
       "      <td>3406.462756</td>\n",
       "      <td>11227.842756</td>\n",
       "      <td>0.000000</td>\n",
       "      <td>long</td>\n",
       "    </tr>\n",
       "    <tr>\n",
       "      <th>2020-03-31</th>\n",
       "      <td>7574.910000</td>\n",
       "      <td>3406.462756</td>\n",
       "      <td>10981.372756</td>\n",
       "      <td>-0.021952</td>\n",
       "      <td>long</td>\n",
       "    </tr>\n",
       "    <tr>\n",
       "      <th>2020-04-01</th>\n",
       "      <td>7119.210000</td>\n",
       "      <td>3406.462756</td>\n",
       "      <td>10525.672756</td>\n",
       "      <td>-0.041498</td>\n",
       "      <td>long</td>\n",
       "    </tr>\n",
       "    <tr>\n",
       "      <th>2020-04-02</th>\n",
       "      <td>7346.570000</td>\n",
       "      <td>3406.462756</td>\n",
       "      <td>10753.032756</td>\n",
       "      <td>0.021601</td>\n",
       "      <td>long</td>\n",
       "    </tr>\n",
       "    <tr>\n",
       "      <th>2020-04-03</th>\n",
       "      <td>7199.570000</td>\n",
       "      <td>3406.462756</td>\n",
       "      <td>10606.032756</td>\n",
       "      <td>-0.013671</td>\n",
       "      <td>long</td>\n",
       "    </tr>\n",
       "    <tr>\n",
       "      <th>2020-04-06</th>\n",
       "      <td>0.000000</td>\n",
       "      <td>11159.732756</td>\n",
       "      <td>11159.732756</td>\n",
       "      <td>0.052206</td>\n",
       "      <td>short</td>\n",
       "    </tr>\n",
       "    <tr>\n",
       "      <th>2020-04-07</th>\n",
       "      <td>8134.980000</td>\n",
       "      <td>3024.752756</td>\n",
       "      <td>11159.732756</td>\n",
       "      <td>0.000000</td>\n",
       "      <td>long</td>\n",
       "    </tr>\n",
       "    <tr>\n",
       "      <th>2020-04-08</th>\n",
       "      <td>8671.040000</td>\n",
       "      <td>3024.752756</td>\n",
       "      <td>11695.792756</td>\n",
       "      <td>0.048035</td>\n",
       "      <td>long</td>\n",
       "    </tr>\n",
       "    <tr>\n",
       "      <th>2020-04-09</th>\n",
       "      <td>9028.740000</td>\n",
       "      <td>3024.752756</td>\n",
       "      <td>12053.492756</td>\n",
       "      <td>0.030584</td>\n",
       "      <td>long</td>\n",
       "    </tr>\n",
       "  </tbody>\n",
       "</table>\n",
       "<p>133 rows × 5 columns</p>\n",
       "</div>"
      ],
      "text/plain": [
       "                holdings          cash         total   returns signal\n",
       "date                                                                 \n",
       "2019-10-01      0.000000  10000.000000  10000.000000  0.000000  short\n",
       "2019-10-02      0.000000  10000.000000  10000.000000  0.000000  short\n",
       "2019-10-03      0.000000  10000.000000  10000.000000  0.000000  short\n",
       "2019-10-04      0.000000  10000.000000  10000.000000  0.000000  short\n",
       "2019-10-07      0.000000  10000.000000  10000.000000  0.000000  short\n",
       "2019-10-08      0.000000  10000.000000  10000.000000  0.000000  short\n",
       "2019-10-09      0.000000  10000.000000  10000.000000  0.000000  short\n",
       "2019-10-10      0.000000  10000.000000  10000.000000  0.000000  short\n",
       "2019-10-11   9912.481707     87.518293  10000.000000  0.000000   long\n",
       "2019-10-14   9967.690956     87.518293  10055.209249  0.005521   long\n",
       "2019-10-15   9998.685623     87.518293  10086.203916  0.003082   long\n",
       "2019-10-16  10045.177622     87.518293  10132.695915  0.004609   long\n",
       "2019-10-17   9998.685623     87.518293  10086.203916 -0.004588   long\n",
       "2019-10-18  10001.591373     87.518293  10089.109666  0.000288   long\n",
       "2019-10-21  10133.802996     87.518293  10221.321289  0.013104   long\n",
       "2019-10-22  10150.753204     87.518293  10238.271497  0.001658   long\n",
       "2019-10-23  10234.051370     87.518293  10321.569663  0.008136   long\n",
       "2019-10-24  10220.975495     87.518293  10308.493788 -0.001267   long\n",
       "2019-10-25  10374.980243     87.518293  10462.498536  0.014940   long\n",
       "2019-10-28  10545.450907     87.518293  10632.969200  0.016293   long\n",
       "2019-10-29  10540.123699     87.518293  10627.641992 -0.000501   long\n",
       "2019-10-30  10451.498325     87.518293  10539.016618 -0.008339   long\n",
       "2019-10-31  10333.815452     87.518293  10421.333745 -0.011166   long\n",
       "2019-11-01  10528.016408     87.518293  10615.534700  0.018635   long\n",
       "2019-11-04  10648.120739     87.518293  10735.639032  0.011314   long\n",
       "2019-11-05  10588.552865     87.518293  10676.071158 -0.005549   long\n",
       "2019-11-06  10577.898449     87.518293  10665.416742 -0.000998   long\n",
       "2019-11-07  10813.748487     87.518293  10901.266780  0.022114   long\n",
       "2019-11-08  10795.345404     87.518293  10882.863697 -0.001688   long\n",
       "2019-11-11  10607.440240     87.518293  10694.958533 -0.017266   long\n",
       "...                  ...           ...           ...       ...    ...\n",
       "2020-02-28      0.000000  11227.842756  11227.842756  0.000000  short\n",
       "2020-03-02      0.000000  11227.842756  11227.842756  0.000000  short\n",
       "2020-03-03      0.000000  11227.842756  11227.842756  0.000000  short\n",
       "2020-03-04      0.000000  11227.842756  11227.842756  0.000000  short\n",
       "2020-03-05      0.000000  11227.842756  11227.842756  0.000000  short\n",
       "2020-03-06      0.000000  11227.842756  11227.842756  0.000000  short\n",
       "2020-03-09      0.000000  11227.842756  11227.842756  0.000000  short\n",
       "2020-03-10      0.000000  11227.842756  11227.842756  0.000000  short\n",
       "2020-03-11      0.000000  11227.842756  11227.842756  0.000000  short\n",
       "2020-03-12      0.000000  11227.842756  11227.842756  0.000000  short\n",
       "2020-03-13      0.000000  11227.842756  11227.842756  0.000000  short\n",
       "2020-03-16      0.000000  11227.842756  11227.842756  0.000000  short\n",
       "2020-03-17      0.000000  11227.842756  11227.842756  0.000000  short\n",
       "2020-03-18      0.000000  11227.842756  11227.842756  0.000000  short\n",
       "2020-03-19      0.000000  11227.842756  11227.842756  0.000000  short\n",
       "2020-03-20      0.000000  11227.842756  11227.842756  0.000000  short\n",
       "2020-03-23      0.000000  11227.842756  11227.842756  0.000000  short\n",
       "2020-03-24      0.000000  11227.842756  11227.842756  0.000000  short\n",
       "2020-03-25      0.000000  11227.842756  11227.842756  0.000000  short\n",
       "2020-03-26      0.000000  11227.842756  11227.842756  0.000000  short\n",
       "2020-03-27      0.000000  11227.842756  11227.842756  0.000000  short\n",
       "2020-03-30   7821.380000   3406.462756  11227.842756  0.000000   long\n",
       "2020-03-31   7574.910000   3406.462756  10981.372756 -0.021952   long\n",
       "2020-04-01   7119.210000   3406.462756  10525.672756 -0.041498   long\n",
       "2020-04-02   7346.570000   3406.462756  10753.032756  0.021601   long\n",
       "2020-04-03   7199.570000   3406.462756  10606.032756 -0.013671   long\n",
       "2020-04-06      0.000000  11159.732756  11159.732756  0.052206  short\n",
       "2020-04-07   8134.980000   3024.752756  11159.732756  0.000000   long\n",
       "2020-04-08   8671.040000   3024.752756  11695.792756  0.048035   long\n",
       "2020-04-09   9028.740000   3024.752756  12053.492756  0.030584   long\n",
       "\n",
       "[133 rows x 5 columns]"
      ]
     },
     "execution_count": 50,
     "metadata": {},
     "output_type": "execute_result"
    }
   ],
   "source": [
    "portfolio"
   ]
  },
  {
   "cell_type": "markdown",
   "metadata": {},
   "source": [
    "**Strategy and signals for a 5 day short and 15 day long Portfolio**"
   ]
  },
  {
   "cell_type": "code",
   "execution_count": 72,
   "metadata": {},
   "outputs": [
    {
     "data": {
      "image/png": "[encoded data removed]",
      "text/plain": [
       "<matplotlib.figure.Figure at 0x7fb1b4912438>"
      ]
     },
     "metadata": {},
     "output_type": "display_data"
    }
   ],
   "source": [
    "# Initialize the plot figure\n",
    "fig = plt.figure(figsize=(12,8))\n",
    "\n",
    "ax1 = fig.add_subplot(111, ylabel='Portfolio value in $')\n",
    "\n",
    "# Plot the equity curve in dollars\n",
    "portfolio['total'].plot(ax=ax1, lw=2.)\n",
    "\n",
    "# Plot the \"buy\" trades against the equity curve\n",
    "ax1.plot(portfolio.loc[signals.positions == 1.0].index, \n",
    "         portfolio.total[signals.positions == 1.0],\n",
    "         '^', markersize=10, color='m')\n",
    "\n",
    "# Plot the \"sell\" trades against the equity curve\n",
    "ax1.plot(portfolio.loc[signals.positions == -1.0].index, \n",
    "         portfolio.total[signals.positions == -1.0],\n",
    "         'v', markersize=10, color='k')\n",
    "\n",
    "# Show the plot\n",
    "plt.show()"
   ]
  },
  {
   "cell_type": "markdown",
   "metadata": {},
   "source": [
    "<a id='evaluating'></a>\n",
    "## Evaluating The Trading Strategy\n",
    "\n",
    "### Sharpe Ratio\n",
    "**For 133 Trading days**"
   ]
  },
  {
   "cell_type": "code",
   "execution_count": 52,
   "metadata": {},
   "outputs": [
    {
     "name": "stdout",
     "output_type": "stream",
     "text": [
      "1.5291195597858747\n"
     ]
    }
   ],
   "source": [
    "# 133 Days Sharpe ratio\n",
    "returns = portfolio['returns']\n",
    "sharpe_ratio_133 = np.sqrt(133) * (returns.mean() / returns.std())\n",
    "print(sharpe_ratio_133)"
   ]
  },
  {
   "cell_type": "code",
   "execution_count": 53,
   "metadata": {},
   "outputs": [
    {
     "name": "stdout",
     "output_type": "stream",
     "text": [
      "2.1048245159046406\n"
     ]
    }
   ],
   "source": [
    "# Annualized Sharpe ratio (252 trading days)\n",
    "sharpe_ratio_252 = np.sqrt(252) * (returns.mean() / returns.std())\n",
    "print(sharpe_ratio_252)"
   ]
  },
  {
   "cell_type": "markdown",
   "metadata": {},
   "source": [
    "**Portfolio 133 trading days Sharpe Ratio: 1.5291195597858747**"
   ]
  },
  {
   "cell_type": "markdown",
   "metadata": {},
   "source": [
    "**Portfolio Sharpe Ratio: 2.1048245159046406**\n",
    "\n",
    "https://seekingalpha.com/article/4239442-your-sharpe-ratio-is-low-for-reasons-bad-golf"
   ]
  },
  {
   "cell_type": "markdown",
   "metadata": {},
   "source": [
    "### Maximum Drawdown\n",
    "https://www.investopedia.com/terms/m/maximum-drawdown-mdd.asp"
   ]
  },
  {
   "cell_type": "code",
   "execution_count": 54,
   "metadata": {},
   "outputs": [],
   "source": [
    "# Define a trailing 12 trading day window\n",
    "max_window = 12"
   ]
  },
  {
   "cell_type": "code",
   "execution_count": 55,
   "metadata": {},
   "outputs": [],
   "source": [
    "# Calculate the max drawdown in the past window days for each day\n",
    "rolling_max = gs_df['adj_close'].rolling(max_window, min_periods=1).max()\n",
    "daily_drawdown = gs_df['adj_close']/rolling_max - 1.0"
   ]
  },
  {
   "cell_type": "code",
   "execution_count": 56,
   "metadata": {},
   "outputs": [],
   "source": [
    "# Calculate the minimum (negative) daily drawdown\n",
    "max_daily_drawdown = daily_drawdown.rolling(max_window, min_periods=1).min()"
   ]
  },
  {
   "cell_type": "code",
   "execution_count": 57,
   "metadata": {},
   "outputs": [
    {
     "data": {
      "image/png": "[encoded data removed]",
      "text/plain": [
       "<matplotlib.figure.Figure at 0x7fb1b95e8390>"
      ]
     },
     "metadata": {},
     "output_type": "display_data"
    }
   ],
   "source": [
    "fig = plt.figure(figsize=(12,8))\n",
    "\n",
    "# Plot the results\n",
    "daily_drawdown.plot()\n",
    "max_daily_drawdown.plot()\n",
    "\n",
    "# Show the plot\n",
    "plt.show()"
   ]
  },
  {
   "cell_type": "markdown",
   "metadata": {},
   "source": [
    "### Compound Annual Growth Rate (CAGR)\n",
    "\n",
    "**What CAGR Can Tell You**\n",
    "\n",
    "The compound annual growth rate isn't a true return rate, but rather a representational figure. It is essentially a number that describes the rate at which an investment would have grown if it had grown the same rate every year and the profits were reinvested at the end of each year. \n",
    "\n",
    "https://www.investopedia.com/terms/c/cagr.asp"
   ]
  },
  {
   "cell_type": "markdown",
   "metadata": {},
   "source": [
    "**Calculate the CAGR**"
   ]
  },
  {
   "cell_type": "code",
   "execution_count": 58,
   "metadata": {},
   "outputs": [
    {
     "name": "stdout",
     "output_type": "stream",
     "text": [
      "0.06902513356815554\n"
     ]
    }
   ],
   "source": [
    "days = (ms_df.index[-1] - ms_df.index[0]).days\n",
    "\n",
    "cagr_ms = ((((ms_df['adj_close'][-1]) / ms_df['adj_close'][1])) ** (365.0/days)) - 1\n",
    "\n",
    "print(cagr_ms)"
   ]
  },
  {
   "cell_type": "markdown",
   "metadata": {},
   "source": [
    "<a id='backtrader'></a>\n",
    "\n",
    "### Backtrader \n",
    "\n",
    "* https://www.backtrader.com/\n",
    "\n",
    "**Strategy Overview**\n",
    "\n",
    "Given current market conditions and increase in volatility we may be able to take advantage of a simple short/long strategy with the following entry and exit parameters:\n",
    " \n",
    "**Entry**\n",
    "\n",
    "* When 5 day moving average greater than 15 day moving average buy\n",
    "\n",
    "**Exit**\n",
    "\n",
    "* When 15 day moving average greater than 5 day moving average sell\n",
    "\n",
    "**Trade Management and Position Sizing**\n",
    "\n",
    "* One open position either buy or sell at a given time.\n",
    "* Position size buy/sell 49 shares at a time without \n",
    "* Backtrader will reject order if not enough funds"
   ]
  },
  {
   "cell_type": "code",
   "execution_count": 59,
   "metadata": {},
   "outputs": [
    {
     "name": "stdout",
     "output_type": "stream",
     "text": [
      "Requirement already satisfied: backtrader in /home/nbuser/anaconda3_420/lib/python3.5/site-packages (1.9.74.123)\n",
      "\u001b[33mWARNING: You are using pip version 19.3.1; however, version 20.0.2 is available.\n",
      "You should consider upgrading via the 'pip install --upgrade pip' command.\u001b[0m\n"
     ]
    }
   ],
   "source": [
    "!pip install backtrader"
   ]
  },
  {
   "cell_type": "code",
   "execution_count": 101,
   "metadata": {},
   "outputs": [],
   "source": [
    "import backtrader as bt"
   ]
  },
  {
   "cell_type": "code",
   "execution_count": 102,
   "metadata": {},
   "outputs": [
    {
     "data": {
      "text/html": [
       "<div>\n",
       "<table border=\"1\" class=\"dataframe\">\n",
       "  <thead>\n",
       "    <tr style=\"text-align: right;\">\n",
       "      <th></th>\n",
       "      <th>open</th>\n",
       "      <th>high</th>\n",
       "      <th>low</th>\n",
       "      <th>close</th>\n",
       "      <th>volume</th>\n",
       "    </tr>\n",
       "    <tr>\n",
       "      <th>date</th>\n",
       "      <th></th>\n",
       "      <th></th>\n",
       "      <th></th>\n",
       "      <th></th>\n",
       "      <th></th>\n",
       "    </tr>\n",
       "  </thead>\n",
       "  <tbody>\n",
       "    <tr>\n",
       "      <th>2019-10-01</th>\n",
       "      <td>207.01</td>\n",
       "      <td>209.380</td>\n",
       "      <td>202.61</td>\n",
       "      <td>202.69</td>\n",
       "      <td>3171507.0</td>\n",
       "    </tr>\n",
       "    <tr>\n",
       "      <th>2019-10-02</th>\n",
       "      <td>201.69</td>\n",
       "      <td>201.880</td>\n",
       "      <td>197.60</td>\n",
       "      <td>198.25</td>\n",
       "      <td>3395299.0</td>\n",
       "    </tr>\n",
       "    <tr>\n",
       "      <th>2019-10-03</th>\n",
       "      <td>197.61</td>\n",
       "      <td>198.370</td>\n",
       "      <td>193.99</td>\n",
       "      <td>197.24</td>\n",
       "      <td>2923698.0</td>\n",
       "    </tr>\n",
       "    <tr>\n",
       "      <th>2019-10-04</th>\n",
       "      <td>196.99</td>\n",
       "      <td>201.226</td>\n",
       "      <td>196.04</td>\n",
       "      <td>200.80</td>\n",
       "      <td>3028781.0</td>\n",
       "    </tr>\n",
       "    <tr>\n",
       "      <th>2019-10-07</th>\n",
       "      <td>200.79</td>\n",
       "      <td>202.530</td>\n",
       "      <td>199.47</td>\n",
       "      <td>200.40</td>\n",
       "      <td>2210318.0</td>\n",
       "    </tr>\n",
       "  </tbody>\n",
       "</table>\n",
       "</div>"
      ],
      "text/plain": [
       "              open     high     low   close     volume\n",
       "date                                                  \n",
       "2019-10-01  207.01  209.380  202.61  202.69  3171507.0\n",
       "2019-10-02  201.69  201.880  197.60  198.25  3395299.0\n",
       "2019-10-03  197.61  198.370  193.99  197.24  2923698.0\n",
       "2019-10-04  196.99  201.226  196.04  200.80  3028781.0\n",
       "2019-10-07  200.79  202.530  199.47  200.40  2210318.0"
      ]
     },
     "execution_count": 102,
     "metadata": {},
     "output_type": "execute_result"
    }
   ],
   "source": [
    "gs_data = gs_df[['open', 'high', 'low', 'close', 'volume']]\n",
    "gs_data.index = pd.DatetimeIndex(gs_data.index)\n",
    "gs_data.head()"
   ]
  },
  {
   "cell_type": "code",
   "execution_count": 103,
   "metadata": {},
   "outputs": [],
   "source": [
    "gs_data.to_csv(\"../data/gs_data.csv\")"
   ]
  },
  {
   "cell_type": "code",
   "execution_count": null,
   "metadata": {},
   "outputs": [],
   "source": [
    "bt.version"
   ]
  },
  {
   "cell_type": "markdown",
   "metadata": {},
   "source": [
    "**Backtrader Strategy Class**"
   ]
  },
  {
   "cell_type": "code",
   "execution_count": 78,
   "metadata": {},
   "outputs": [],
   "source": [
    "class SMAStrategy(bt.Strategy):\n",
    "    \n",
    "    def __init__(self):\n",
    "        signal_short = bt.ind.SMA(period = 5)\n",
    "        signal_long = bt.ind.SMA(period = 15)\n",
    "        self.sma_diff = signal_short - signal_long\n",
    "\n",
    "    def next(self):\n",
    "        if not self.position:\n",
    "            if self.sma_diff >= 0:\n",
    "                self.buy(size = 49)\n",
    "        else:\n",
    "            if self.sma_diff < 0:\n",
    "                self.sell(size = 49)"
   ]
  },
  {
   "cell_type": "markdown",
   "metadata": {},
   "source": [
    "**Backtrader Start**"
   ]
  },
  {
   "cell_type": "code",
   "execution_count": 76,
   "metadata": {},
   "outputs": [
    {
     "data": {
      "text/plain": [
       "0"
      ]
     },
     "execution_count": 76,
     "metadata": {},
     "output_type": "execute_result"
    }
   ],
   "source": [
    "cerebro = bt.Cerebro()\n",
    "cerebro.addstrategy(SMAStrategy)"
   ]
  },
  {
   "cell_type": "code",
   "execution_count": 79,
   "metadata": {},
   "outputs": [
    {
     "data": {
      "text/plain": [
       "<backtrader.feeds.pandafeed.PandasData at 0x7fb1b48d87b8>"
      ]
     },
     "execution_count": 79,
     "metadata": {},
     "output_type": "execute_result"
    }
   ],
   "source": [
    "# Pass it to the backtrader datafeed and add it to the cerebro\n",
    "data = bt.feeds.PandasData(dataname = gs_data)\n",
    "\n",
    "#Add the data to Cerebro\n",
    "cerebro.adddata(data)"
   ]
  },
  {
   "cell_type": "code",
   "execution_count": 80,
   "metadata": {},
   "outputs": [],
   "source": [
    "startcash=10000\n",
    "cerebro.broker.setcash(startcash)\n",
    "cerebro.broker.setcommission(commission = 0)"
   ]
  },
  {
   "cell_type": "code",
   "execution_count": 81,
   "metadata": {},
   "outputs": [
    {
     "data": {
      "text/plain": [
       "[<__main__.SMAStrategy at 0x7fb1b487a9b0>]"
      ]
     },
     "execution_count": 81,
     "metadata": {},
     "output_type": "execute_result"
    }
   ],
   "source": [
    "cerebro.run()"
   ]
  },
  {
   "cell_type": "markdown",
   "metadata": {},
   "source": [
    "## Goldman Sachs Final Portfolio Value\n"
   ]
  },
  {
   "cell_type": "code",
   "execution_count": 84,
   "metadata": {},
   "outputs": [
    {
     "name": "stdout",
     "output_type": "stream",
     "text": [
      "Final Portfolio Value: $11155.42\n"
     ]
    }
   ],
   "source": [
    "gs_portfolio_value = cerebro.broker.getvalue()\n",
    "print('Final Portfolio Value: ${}'.format(gs_portfolio_value))"
   ]
  },
  {
   "cell_type": "code",
   "execution_count": 85,
   "metadata": {},
   "outputs": [
    {
     "name": "stdout",
     "output_type": "stream",
     "text": [
      "P/L: $1155.42\n"
     ]
    }
   ],
   "source": [
    "gs_pnl = gs_portfolio_value - startcash\n",
    "print('P/L: ${}'.format(gs_pnl))"
   ]
  },
  {
   "cell_type": "markdown",
   "metadata": {},
   "source": [
    "### Backtrader Visualization"
   ]
  },
  {
   "cell_type": "code",
   "execution_count": 86,
   "metadata": {},
   "outputs": [
    {
     "name": "stderr",
     "output_type": "stream",
     "text": [
      "/home/nbuser/anaconda3_420/lib/python3.5/site-packages/backtrader/plot/__init__.py:30: UserWarning:\n",
      "\n",
      "\n",
      "This call to matplotlib.use() has no effect because the backend has already\n",
      "been chosen; matplotlib.use() must be called *before* pylab, matplotlib.pyplot,\n",
      "or matplotlib.backends is imported for the first time.\n",
      "\n",
      "The backend was *originally* set to 'module://ipykernel.pylab.backend_inline' by the following code:\n",
      "  File \"/home/nbuser/anaconda3_420/lib/python3.5/runpy.py\", line 193, in _run_module_as_main\n",
      "    \"__main__\", mod_spec)\n",
      "  File \"/home/nbuser/anaconda3_420/lib/python3.5/runpy.py\", line 85, in _run_code\n",
      "    exec(code, run_globals)\n",
      "  File \"/home/nbuser/anaconda3_420/lib/python3.5/site-packages/ipykernel/__main__.py\", line 3, in <module>\n",
      "    app.launch_new_instance()\n",
      "  File \"/home/nbuser/anaconda3_420/lib/python3.5/site-packages/traitlets/config/application.py\", line 658, in launch_instance\n",
      "    app.start()\n",
      "  File \"/home/nbuser/anaconda3_420/lib/python3.5/site-packages/ipykernel/kernelapp.py\", line 478, in start\n",
      "    self.io_loop.start()\n",
      "  File \"/home/nbuser/anaconda3_420/lib/python3.5/site-packages/zmq/eventloop/ioloop.py\", line 162, in start\n",
      "    super(ZMQIOLoop, self).start()\n",
      "  File \"/home/nbuser/anaconda3_420/lib/python3.5/site-packages/tornado/ioloop.py\", line 887, in start\n",
      "    handler_func(fd_obj, events)\n",
      "  File \"/home/nbuser/anaconda3_420/lib/python3.5/site-packages/tornado/stack_context.py\", line 275, in null_wrapper\n",
      "    return fn(*args, **kwargs)\n",
      "  File \"/home/nbuser/anaconda3_420/lib/python3.5/site-packages/zmq/eventloop/zmqstream.py\", line 440, in _handle_events\n",
      "    self._handle_recv()\n",
      "  File \"/home/nbuser/anaconda3_420/lib/python3.5/site-packages/zmq/eventloop/zmqstream.py\", line 472, in _handle_recv\n",
      "    self._run_callback(callback, msg)\n",
      "  File \"/home/nbuser/anaconda3_420/lib/python3.5/site-packages/zmq/eventloop/zmqstream.py\", line 414, in _run_callback\n",
      "    callback(*args, **kwargs)\n",
      "  File \"/home/nbuser/anaconda3_420/lib/python3.5/site-packages/tornado/stack_context.py\", line 275, in null_wrapper\n",
      "    return fn(*args, **kwargs)\n",
      "  File \"/home/nbuser/anaconda3_420/lib/python3.5/site-packages/ipykernel/kernelbase.py\", line 281, in dispatcher\n",
      "    return self.dispatch_shell(stream, msg)\n",
      "  File \"/home/nbuser/anaconda3_420/lib/python3.5/site-packages/ipykernel/kernelbase.py\", line 232, in dispatch_shell\n",
      "    handler(stream, idents, msg)\n",
      "  File \"/home/nbuser/anaconda3_420/lib/python3.5/site-packages/ipykernel/kernelbase.py\", line 397, in execute_request\n",
      "    user_expressions, allow_stdin)\n",
      "  File \"/home/nbuser/anaconda3_420/lib/python3.5/site-packages/ipykernel/ipkernel.py\", line 208, in do_execute\n",
      "    res = shell.run_cell(code, store_history=store_history, silent=silent)\n",
      "  File \"/home/nbuser/anaconda3_420/lib/python3.5/site-packages/ipykernel/zmqshell.py\", line 533, in run_cell\n",
      "    return super(ZMQInteractiveShell, self).run_cell(*args, **kwargs)\n",
      "  File \"/home/nbuser/anaconda3_420/lib/python3.5/site-packages/IPython/core/interactiveshell.py\", line 2739, in run_cell\n",
      "    self.events.trigger('post_run_cell')\n",
      "  File \"/home/nbuser/anaconda3_420/lib/python3.5/site-packages/IPython/core/events.py\", line 73, in trigger\n",
      "    func(*args, **kwargs)\n",
      "  File \"/home/nbuser/anaconda3_420/lib/python3.5/site-packages/ipykernel/pylab/backend_inline.py\", line 160, in configure_once\n",
      "    activate_matplotlib(backend)\n",
      "  File \"/home/nbuser/anaconda3_420/lib/python3.5/site-packages/IPython/core/pylabtools.py\", line 308, in activate_matplotlib\n",
      "    matplotlib.pyplot.switch_backend(backend)\n",
      "  File \"/home/nbuser/anaconda3_420/lib/python3.5/site-packages/matplotlib/pyplot.py\", line 232, in switch_backend\n",
      "    matplotlib.use(newbackend, warn=False, force=True)\n",
      "  File \"/home/nbuser/anaconda3_420/lib/python3.5/site-packages/matplotlib/__init__.py\", line 1305, in use\n",
      "    reload(sys.modules['matplotlib.backends'])\n",
      "  File \"/home/nbuser/anaconda3_420/lib/python3.5/importlib/__init__.py\", line 166, in reload\n",
      "    _bootstrap._exec(spec, module)\n",
      "  File \"/home/nbuser/anaconda3_420/lib/python3.5/site-packages/matplotlib/backends/__init__.py\", line 14, in <module>\n",
      "    line for line in traceback.format_stack()\n",
      "\n",
      "\n",
      "\n",
      "/home/nbuser/anaconda3_420/lib/python3.5/site-packages/backtrader/plot/plot.py:127: UserWarning:\n",
      "\n",
      "\n",
      "This call to matplotlib.use() has no effect because the backend has already\n",
      "been chosen; matplotlib.use() must be called *before* pylab, matplotlib.pyplot,\n",
      "or matplotlib.backends is imported for the first time.\n",
      "\n",
      "The backend was *originally* set to 'module://ipykernel.pylab.backend_inline' by the following code:\n",
      "  File \"/home/nbuser/anaconda3_420/lib/python3.5/runpy.py\", line 193, in _run_module_as_main\n",
      "    \"__main__\", mod_spec)\n",
      "  File \"/home/nbuser/anaconda3_420/lib/python3.5/runpy.py\", line 85, in _run_code\n",
      "    exec(code, run_globals)\n",
      "  File \"/home/nbuser/anaconda3_420/lib/python3.5/site-packages/ipykernel/__main__.py\", line 3, in <module>\n",
      "    app.launch_new_instance()\n",
      "  File \"/home/nbuser/anaconda3_420/lib/python3.5/site-packages/traitlets/config/application.py\", line 658, in launch_instance\n",
      "    app.start()\n",
      "  File \"/home/nbuser/anaconda3_420/lib/python3.5/site-packages/ipykernel/kernelapp.py\", line 478, in start\n",
      "    self.io_loop.start()\n",
      "  File \"/home/nbuser/anaconda3_420/lib/python3.5/site-packages/zmq/eventloop/ioloop.py\", line 162, in start\n",
      "    super(ZMQIOLoop, self).start()\n",
      "  File \"/home/nbuser/anaconda3_420/lib/python3.5/site-packages/tornado/ioloop.py\", line 887, in start\n",
      "    handler_func(fd_obj, events)\n",
      "  File \"/home/nbuser/anaconda3_420/lib/python3.5/site-packages/tornado/stack_context.py\", line 275, in null_wrapper\n",
      "    return fn(*args, **kwargs)\n",
      "  File \"/home/nbuser/anaconda3_420/lib/python3.5/site-packages/zmq/eventloop/zmqstream.py\", line 440, in _handle_events\n",
      "    self._handle_recv()\n",
      "  File \"/home/nbuser/anaconda3_420/lib/python3.5/site-packages/zmq/eventloop/zmqstream.py\", line 472, in _handle_recv\n",
      "    self._run_callback(callback, msg)\n",
      "  File \"/home/nbuser/anaconda3_420/lib/python3.5/site-packages/zmq/eventloop/zmqstream.py\", line 414, in _run_callback\n",
      "    callback(*args, **kwargs)\n",
      "  File \"/home/nbuser/anaconda3_420/lib/python3.5/site-packages/tornado/stack_context.py\", line 275, in null_wrapper\n",
      "    return fn(*args, **kwargs)\n",
      "  File \"/home/nbuser/anaconda3_420/lib/python3.5/site-packages/ipykernel/kernelbase.py\", line 281, in dispatcher\n",
      "    return self.dispatch_shell(stream, msg)\n",
      "  File \"/home/nbuser/anaconda3_420/lib/python3.5/site-packages/ipykernel/kernelbase.py\", line 232, in dispatch_shell\n",
      "    handler(stream, idents, msg)\n",
      "  File \"/home/nbuser/anaconda3_420/lib/python3.5/site-packages/ipykernel/kernelbase.py\", line 397, in execute_request\n",
      "    user_expressions, allow_stdin)\n",
      "  File \"/home/nbuser/anaconda3_420/lib/python3.5/site-packages/ipykernel/ipkernel.py\", line 208, in do_execute\n",
      "    res = shell.run_cell(code, store_history=store_history, silent=silent)\n",
      "  File \"/home/nbuser/anaconda3_420/lib/python3.5/site-packages/ipykernel/zmqshell.py\", line 533, in run_cell\n",
      "    return super(ZMQInteractiveShell, self).run_cell(*args, **kwargs)\n",
      "  File \"/home/nbuser/anaconda3_420/lib/python3.5/site-packages/IPython/core/interactiveshell.py\", line 2739, in run_cell\n",
      "    self.events.trigger('post_run_cell')\n",
      "  File \"/home/nbuser/anaconda3_420/lib/python3.5/site-packages/IPython/core/events.py\", line 73, in trigger\n",
      "    func(*args, **kwargs)\n",
      "  File \"/home/nbuser/anaconda3_420/lib/python3.5/site-packages/ipykernel/pylab/backend_inline.py\", line 160, in configure_once\n",
      "    activate_matplotlib(backend)\n",
      "  File \"/home/nbuser/anaconda3_420/lib/python3.5/site-packages/IPython/core/pylabtools.py\", line 308, in activate_matplotlib\n",
      "    matplotlib.pyplot.switch_backend(backend)\n",
      "  File \"/home/nbuser/anaconda3_420/lib/python3.5/site-packages/matplotlib/pyplot.py\", line 232, in switch_backend\n",
      "    matplotlib.use(newbackend, warn=False, force=True)\n",
      "  File \"/home/nbuser/anaconda3_420/lib/python3.5/site-packages/matplotlib/__init__.py\", line 1305, in use\n",
      "    reload(sys.modules['matplotlib.backends'])\n",
      "  File \"/home/nbuser/anaconda3_420/lib/python3.5/importlib/__init__.py\", line 166, in reload\n",
      "    _bootstrap._exec(spec, module)\n",
      "  File \"/home/nbuser/anaconda3_420/lib/python3.5/site-packages/matplotlib/backends/__init__.py\", line 14, in <module>\n",
      "    line for line in traceback.format_stack()\n",
      "\n",
      "\n",
      "\n"
     ]
    },
    {
     "data": {
      "image/png": "[encoded data removed]",
      "text/plain": [
       "<matplotlib.figure.Figure at 0x7fb1b4890cf8>"
      ]
     },
     "metadata": {},
     "output_type": "display_data"
    },
    {
     "data": {
      "text/plain": [
       "[[<matplotlib.figure.Figure at 0x7fb1b4890cf8>]]"
      ]
     },
     "execution_count": 86,
     "metadata": {},
     "output_type": "execute_result"
    }
   ],
   "source": [
    "plt.rcParams['figure.figsize'] = [12, 8]\n",
    "cerebro.plot()"
   ]
  },
  {
   "cell_type": "code",
   "execution_count": null,
   "metadata": {},
   "outputs": [],
   "source": []
  }
 ],
 "metadata": {
  "hide_input": false,
  "kernelspec": {
   "display_name": "Python 3",
   "language": "python",
   "name": "python3"
  },
  "language_info": {
   "codemirror_mode": {
    "name": "ipython",
    "version": 3
   },
   "file_extension": ".py",
   "mimetype": "text/x-python",
   "name": "python",
   "nbconvert_exporter": "python",
   "pygments_lexer": "ipython3",
   "version": "3.7.6"
  },
  "toc": {
   "base_numbering": 1,
   "nav_menu": {},
   "number_sections": true,
   "sideBar": true,
   "skip_h1_title": false,
   "title_cell": "Table of Contents",
   "title_sidebar": "Contents",
   "toc_cell": false,
   "toc_position": {},
   "toc_section_display": "block",
   "toc_window_display": false
  }
 },
 "nbformat": 4,
 "nbformat_minor": 2
}
